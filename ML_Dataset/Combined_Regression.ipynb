{
 "cells": [
  {
   "cell_type": "code",
   "execution_count": 1,
   "id": "ddbf8e75-9f66-4f12-ad36-9c2a1298f60a",
   "metadata": {
    "tags": []
   },
   "outputs": [
    {
     "name": "stderr",
     "output_type": "stream",
     "text": [
      "/usr4/spclpgm/zhoua25/.local/lib/python3.10/site-packages/cupy/_environment.py:487: UserWarning: \n",
      "--------------------------------------------------------------------------------\n",
      "\n",
      "  CuPy may not function correctly because multiple CuPy packages are installed\n",
      "  in your environment:\n",
      "\n",
      "    cupy-cuda11x, cupy-cuda12x\n",
      "\n",
      "  Follow these steps to resolve this issue:\n",
      "\n",
      "    1. For all packages listed above, run the following command to remove all\n",
      "       existing CuPy installations:\n",
      "\n",
      "         $ pip uninstall <package_name>\n",
      "\n",
      "      If you previously installed CuPy via conda, also run the following:\n",
      "\n",
      "         $ conda uninstall cupy\n",
      "\n",
      "    2. Install the appropriate CuPy package.\n",
      "       Refer to the Installation Guide for detailed instructions.\n",
      "\n",
      "         https://docs.cupy.dev/en/stable/install.html\n",
      "\n",
      "--------------------------------------------------------------------------------\n",
      "\n",
      "  warnings.warn(f'''\n"
     ]
    }
   ],
   "source": [
    "import numpy as np\n",
    "import pandas as pd\n",
    "pd.options.mode.chained_assignment = None  # default='warn'\n",
    "import re\n",
    "import os\n",
    "from pathlib import Path\n",
    "import shutil\n",
    "import sys\n",
    "import argparse\n",
    "import csv\n",
    "import random\n",
    "import time\n",
    "from sklearn import preprocessing, svm \n",
    "from sklearn.model_selection import train_test_split as tts\n",
    "\n",
    "from sklearn.model_selection import cross_val_score\n",
    "from sklearn.experimental import enable_iterative_imputer\n",
    "from sklearn.impute import IterativeImputer\n",
    "from sklearn.tree import DecisionTreeRegressor\n",
    "from sklearn.metrics import r2_score\n",
    "from sklearn.metrics import root_mean_squared_error\n",
    "\n",
    "import cudf"
   ]
  },
  {
   "cell_type": "code",
   "execution_count": 2,
   "id": "e38d973c-5676-4139-8554-72bb96a39219",
   "metadata": {
    "tags": []
   },
   "outputs": [],
   "source": [
    "kelvin_offset = 273.15\n",
    "\n",
    "def getDimensions(file, layer):\n",
    "    columns = cudf.read_csv(file, nrows=1)\n",
    "    nrows = 0\n",
    "    ncols = 0\n",
    "    while f'V(NODE{layer}_{nrows}_0)' in columns:\n",
    "        nrows += 1\n",
    "    while f'V(NODE{layer}_0_{ncols})' in columns:\n",
    "        ncols += 1\n",
    "    return nrows, ncols\n",
    "\n",
    "\n",
    "def readFormatInput(file, n_rows, n_cols, layer):\n",
    "    column = [f'V(NODE{layer}_{row}_{col})' for row in range(n_rows) for col in range(n_cols)]\n",
    "    df_l = cudf.read_csv(file, usecols=column)\n",
    "    return df_l\n",
    "\n",
    "def getTemp(file, layer):\n",
    "    grid_rows, grid_cols = getDimensions(file, layer)\n",
    "    df_l = readFormatInput(file, grid_rows, grid_cols, layer)\n",
    "    df_l -= kelvin_offset\n",
    "    return df_l"
   ]
  },
  {
   "cell_type": "code",
   "execution_count": 3,
   "id": "d3a7da11-c2d9-442d-8a64-d5465e3694f1",
   "metadata": {
    "tags": []
   },
   "outputs": [],
   "source": [
    "os.chdir('different_ptraces')\n",
    "folders = os.listdir()\n",
    "\n",
    "\n",
    "ptrace_files_path = []\n",
    "\n",
    "for folder in folders:\n",
    "    os.chdir(f'{folder}')\n",
    "    files = os.listdir()\n",
    "    for file in files:\n",
    "        if \"scaled\" in file:\n",
    "            path = os.getcwd()\n",
    "            ptrace_files_path.append(f\"{path}/{file}\")\n",
    "            os.chdir('../')\n",
    "os.chdir('../')\n",
    "\n",
    "os.chdir('outputs')\n",
    "outputs = os.listdir()\n",
    "temp_files_paths = []\n",
    "\n",
    "for file in outputs:\n",
    "    path = os.getcwd()\n",
    "    temp_files_paths.append(f\"{path}/{file}\")\n",
    "os.chdir('../')"
   ]
  },
  {
   "cell_type": "code",
   "execution_count": 4,
   "id": "0d2c4350-d3c4-4ba8-ad87-2b8cbb7556e1",
   "metadata": {
    "tags": []
   },
   "outputs": [],
   "source": [
    "#layer 4 powers\n",
    "powers = []\n",
    "cores = cudf.DataFrame()\n",
    "i = 0\n",
    "for file in ptrace_files_path:\n",
    "    d = cudf.read_csv(file, header = 0)\n",
    "    powers.append(d['Power'].sum())\n",
    "   \n",
    "    \n",
    "    \n",
    "#layer 1 power\n",
    "layer1_ptrace_file_path =  \"/usr4/spclpgm/zhoua25/PACT/ML_Dataset/ptrace_files/tier1_ptrace.csv\"\n",
    "layer1_ptrace_file =  cudf.read_csv(layer1_ptrace_file_path, header = 0)\n",
    "layer1_power = layer1_ptrace_file['Power'].sum()\n"
   ]
  },
  {
   "cell_type": "code",
   "execution_count": 5,
   "id": "3dd29cff-b40e-4c10-ae9a-6b819a16df4a",
   "metadata": {
    "tags": []
   },
   "outputs": [],
   "source": [
    "#matching powertrace and temperature outputs \n",
    "fixed_list = []\n",
    "for i in range(len(ptrace_files_path)+1):\n",
    "    for file in temp_files_paths:\n",
    "        if f\"output{i}.cir.csv\" in file:\n",
    "            fixed_list.append(file)"
   ]
  },
  {
   "cell_type": "code",
   "execution_count": 6,
   "id": "4d7d5a46-6591-4adf-94ee-6723e7f44c4f",
   "metadata": {
    "tags": []
   },
   "outputs": [],
   "source": [
    "df_4 = cudf.DataFrame()\n",
    "df_4['Powerusage'] = powers\n",
    "df_4['Temperature_files'] = fixed_list\n",
    "df_4['Layer_Number'] = [4] * len(df_4)\n",
    "\n",
    "\n",
    "df_1 = cudf.DataFrame()\n",
    "df_1['Powerusage'] = [layer1_power]* len(fixed_list)\n",
    "df_1['Temperature_files'] = fixed_list\n",
    "df_1['Layer_Number'] = [1] * len(df_1)"
   ]
  },
  {
   "cell_type": "code",
   "execution_count": 7,
   "id": "92c2b65c-5e95-4aa4-805d-7d7d5ac2c34b",
   "metadata": {
    "tags": []
   },
   "outputs": [
    {
     "data": {
      "text/html": [
       "<div>\n",
       "<style scoped>\n",
       "    .dataframe tbody tr th:only-of-type {\n",
       "        vertical-align: middle;\n",
       "    }\n",
       "\n",
       "    .dataframe tbody tr th {\n",
       "        vertical-align: top;\n",
       "    }\n",
       "\n",
       "    .dataframe thead th {\n",
       "        text-align: right;\n",
       "    }\n",
       "</style>\n",
       "<table border=\"1\" class=\"dataframe\">\n",
       "  <thead>\n",
       "    <tr style=\"text-align: right;\">\n",
       "      <th></th>\n",
       "      <th>Powerusage</th>\n",
       "      <th>Temperature_files</th>\n",
       "      <th>Layer_Number</th>\n",
       "    </tr>\n",
       "  </thead>\n",
       "  <tbody>\n",
       "    <tr>\n",
       "      <th>0</th>\n",
       "      <td>21.904608</td>\n",
       "      <td>/usr4/spclpgm/zhoua25/PACT/ML_Dataset/outputs/...</td>\n",
       "      <td>4</td>\n",
       "    </tr>\n",
       "    <tr>\n",
       "      <th>1</th>\n",
       "      <td>26.482482</td>\n",
       "      <td>/usr4/spclpgm/zhoua25/PACT/ML_Dataset/outputs/...</td>\n",
       "      <td>4</td>\n",
       "    </tr>\n",
       "    <tr>\n",
       "      <th>2</th>\n",
       "      <td>76.956788</td>\n",
       "      <td>/usr4/spclpgm/zhoua25/PACT/ML_Dataset/outputs/...</td>\n",
       "      <td>4</td>\n",
       "    </tr>\n",
       "    <tr>\n",
       "      <th>3</th>\n",
       "      <td>36.406347</td>\n",
       "      <td>/usr4/spclpgm/zhoua25/PACT/ML_Dataset/outputs/...</td>\n",
       "      <td>4</td>\n",
       "    </tr>\n",
       "    <tr>\n",
       "      <th>4</th>\n",
       "      <td>31.752373</td>\n",
       "      <td>/usr4/spclpgm/zhoua25/PACT/ML_Dataset/outputs/...</td>\n",
       "      <td>4</td>\n",
       "    </tr>\n",
       "    <tr>\n",
       "      <th>...</th>\n",
       "      <td>...</td>\n",
       "      <td>...</td>\n",
       "      <td>...</td>\n",
       "    </tr>\n",
       "    <tr>\n",
       "      <th>715</th>\n",
       "      <td>19.000000</td>\n",
       "      <td>/usr4/spclpgm/zhoua25/PACT/ML_Dataset/outputs/...</td>\n",
       "      <td>1</td>\n",
       "    </tr>\n",
       "    <tr>\n",
       "      <th>716</th>\n",
       "      <td>19.000000</td>\n",
       "      <td>/usr4/spclpgm/zhoua25/PACT/ML_Dataset/outputs/...</td>\n",
       "      <td>1</td>\n",
       "    </tr>\n",
       "    <tr>\n",
       "      <th>717</th>\n",
       "      <td>19.000000</td>\n",
       "      <td>/usr4/spclpgm/zhoua25/PACT/ML_Dataset/outputs/...</td>\n",
       "      <td>1</td>\n",
       "    </tr>\n",
       "    <tr>\n",
       "      <th>718</th>\n",
       "      <td>19.000000</td>\n",
       "      <td>/usr4/spclpgm/zhoua25/PACT/ML_Dataset/outputs/...</td>\n",
       "      <td>1</td>\n",
       "    </tr>\n",
       "    <tr>\n",
       "      <th>719</th>\n",
       "      <td>19.000000</td>\n",
       "      <td>/usr4/spclpgm/zhoua25/PACT/ML_Dataset/outputs/...</td>\n",
       "      <td>1</td>\n",
       "    </tr>\n",
       "  </tbody>\n",
       "</table>\n",
       "<p>720 rows × 3 columns</p>\n",
       "</div>"
      ],
      "text/plain": [
       "     Powerusage                                  Temperature_files  \\\n",
       "0     21.904608  /usr4/spclpgm/zhoua25/PACT/ML_Dataset/outputs/...   \n",
       "1     26.482482  /usr4/spclpgm/zhoua25/PACT/ML_Dataset/outputs/...   \n",
       "2     76.956788  /usr4/spclpgm/zhoua25/PACT/ML_Dataset/outputs/...   \n",
       "3     36.406347  /usr4/spclpgm/zhoua25/PACT/ML_Dataset/outputs/...   \n",
       "4     31.752373  /usr4/spclpgm/zhoua25/PACT/ML_Dataset/outputs/...   \n",
       "..          ...                                                ...   \n",
       "715   19.000000  /usr4/spclpgm/zhoua25/PACT/ML_Dataset/outputs/...   \n",
       "716   19.000000  /usr4/spclpgm/zhoua25/PACT/ML_Dataset/outputs/...   \n",
       "717   19.000000  /usr4/spclpgm/zhoua25/PACT/ML_Dataset/outputs/...   \n",
       "718   19.000000  /usr4/spclpgm/zhoua25/PACT/ML_Dataset/outputs/...   \n",
       "719   19.000000  /usr4/spclpgm/zhoua25/PACT/ML_Dataset/outputs/...   \n",
       "\n",
       "     Layer_Number  \n",
       "0               4  \n",
       "1               4  \n",
       "2               4  \n",
       "3               4  \n",
       "4               4  \n",
       "..            ...  \n",
       "715             1  \n",
       "716             1  \n",
       "717             1  \n",
       "718             1  \n",
       "719             1  \n",
       "\n",
       "[720 rows x 3 columns]"
      ]
     },
     "execution_count": 7,
     "metadata": {},
     "output_type": "execute_result"
    }
   ],
   "source": [
    "df = cudf.concat([df_4, df_1], ignore_index = True)\n",
    "df"
   ]
  },
  {
   "cell_type": "code",
   "execution_count": 11,
   "id": "062dcccc-136e-4b66-9197-a8940d2d5a30",
   "metadata": {},
   "outputs": [],
   "source": [
    "def powerPerNode(powerusage, nodes):\n",
    "    nodes *= nodes\n",
    "    pPN = [powerusage/nodes]*nodes\n",
    "    return cudf.DataFrame(pPN, columns = ['PowerPerNode'])"
   ]
  },
  {
   "cell_type": "code",
   "execution_count": 12,
   "id": "18008e16-4538-4d41-bfbd-5c156e46af82",
   "metadata": {},
   "outputs": [],
   "source": [
    "def getData(num, df):\n",
    "    df1 = df.to_numpy()\n",
    "    test = powerPerNode(df1[num][0], 100)\n",
    "    test1= getTemp(df1[num][1], df1[num][2])\n",
    "    layer = df1[num][2]\n",
    "    cols = test1.columns\n",
    "    # test1.columns = [None] * len(test1.columns)\n",
    "    test1 = test1.transpose().reset_index()\n",
    "    test['NodeTemp'] = test1[0]\n",
    "    test['NodeName'] = cols\n",
    "    test['index1'] = test.index\n",
    "    test['layer'] = [layer] * len(test)\n",
    "    # for i in range(10):\n",
    "    #     test[f'Core{i}'] = [df1[num][i+3]] * len(test)\n",
    "    return test"
   ]
  },
  {
   "cell_type": "code",
   "execution_count": 25,
   "id": "319c3302-5edc-4e39-8d5f-4634d019f5e1",
   "metadata": {
    "tags": []
   },
   "outputs": [
    {
     "data": {
      "text/html": [
       "<div>\n",
       "<style scoped>\n",
       "    .dataframe tbody tr th:only-of-type {\n",
       "        vertical-align: middle;\n",
       "    }\n",
       "\n",
       "    .dataframe tbody tr th {\n",
       "        vertical-align: top;\n",
       "    }\n",
       "\n",
       "    .dataframe thead th {\n",
       "        text-align: right;\n",
       "    }\n",
       "</style>\n",
       "<table border=\"1\" class=\"dataframe\">\n",
       "  <thead>\n",
       "    <tr style=\"text-align: right;\">\n",
       "      <th></th>\n",
       "      <th>PowerPerNode</th>\n",
       "      <th>NodeTemp</th>\n",
       "      <th>NodeName</th>\n",
       "      <th>index1</th>\n",
       "      <th>layer</th>\n",
       "    </tr>\n",
       "  </thead>\n",
       "  <tbody>\n",
       "    <tr>\n",
       "      <th>0</th>\n",
       "      <td>0.0019</td>\n",
       "      <td>49.48</td>\n",
       "      <td>V(NODE1_0_0)</td>\n",
       "      <td>0</td>\n",
       "      <td>1</td>\n",
       "    </tr>\n",
       "    <tr>\n",
       "      <th>1</th>\n",
       "      <td>0.0019</td>\n",
       "      <td>49.48</td>\n",
       "      <td>V(NODE1_0_1)</td>\n",
       "      <td>1</td>\n",
       "      <td>1</td>\n",
       "    </tr>\n",
       "    <tr>\n",
       "      <th>2</th>\n",
       "      <td>0.0019</td>\n",
       "      <td>49.48</td>\n",
       "      <td>V(NODE1_0_2)</td>\n",
       "      <td>2</td>\n",
       "      <td>1</td>\n",
       "    </tr>\n",
       "    <tr>\n",
       "      <th>3</th>\n",
       "      <td>0.0019</td>\n",
       "      <td>49.48</td>\n",
       "      <td>V(NODE1_0_3)</td>\n",
       "      <td>3</td>\n",
       "      <td>1</td>\n",
       "    </tr>\n",
       "    <tr>\n",
       "      <th>4</th>\n",
       "      <td>0.0019</td>\n",
       "      <td>49.48</td>\n",
       "      <td>V(NODE1_0_4)</td>\n",
       "      <td>4</td>\n",
       "      <td>1</td>\n",
       "    </tr>\n",
       "    <tr>\n",
       "      <th>...</th>\n",
       "      <td>...</td>\n",
       "      <td>...</td>\n",
       "      <td>...</td>\n",
       "      <td>...</td>\n",
       "      <td>...</td>\n",
       "    </tr>\n",
       "    <tr>\n",
       "      <th>9995</th>\n",
       "      <td>0.0019</td>\n",
       "      <td>46.97</td>\n",
       "      <td>V(NODE1_99_95)</td>\n",
       "      <td>9995</td>\n",
       "      <td>1</td>\n",
       "    </tr>\n",
       "    <tr>\n",
       "      <th>9996</th>\n",
       "      <td>0.0019</td>\n",
       "      <td>46.96</td>\n",
       "      <td>V(NODE1_99_96)</td>\n",
       "      <td>9996</td>\n",
       "      <td>1</td>\n",
       "    </tr>\n",
       "    <tr>\n",
       "      <th>9997</th>\n",
       "      <td>0.0019</td>\n",
       "      <td>46.96</td>\n",
       "      <td>V(NODE1_99_97)</td>\n",
       "      <td>9997</td>\n",
       "      <td>1</td>\n",
       "    </tr>\n",
       "    <tr>\n",
       "      <th>9998</th>\n",
       "      <td>0.0019</td>\n",
       "      <td>46.96</td>\n",
       "      <td>V(NODE1_99_98)</td>\n",
       "      <td>9998</td>\n",
       "      <td>1</td>\n",
       "    </tr>\n",
       "    <tr>\n",
       "      <th>9999</th>\n",
       "      <td>0.0019</td>\n",
       "      <td>46.96</td>\n",
       "      <td>V(NODE1_99_99)</td>\n",
       "      <td>9999</td>\n",
       "      <td>1</td>\n",
       "    </tr>\n",
       "  </tbody>\n",
       "</table>\n",
       "<p>10000 rows × 5 columns</p>\n",
       "</div>"
      ],
      "text/plain": [
       "      PowerPerNode  NodeTemp        NodeName  index1  layer\n",
       "0           0.0019     49.48    V(NODE1_0_0)       0      1\n",
       "1           0.0019     49.48    V(NODE1_0_1)       1      1\n",
       "2           0.0019     49.48    V(NODE1_0_2)       2      1\n",
       "3           0.0019     49.48    V(NODE1_0_3)       3      1\n",
       "4           0.0019     49.48    V(NODE1_0_4)       4      1\n",
       "...            ...       ...             ...     ...    ...\n",
       "9995        0.0019     46.97  V(NODE1_99_95)    9995      1\n",
       "9996        0.0019     46.96  V(NODE1_99_96)    9996      1\n",
       "9997        0.0019     46.96  V(NODE1_99_97)    9997      1\n",
       "9998        0.0019     46.96  V(NODE1_99_98)    9998      1\n",
       "9999        0.0019     46.96  V(NODE1_99_99)    9999      1\n",
       "\n",
       "[10000 rows x 5 columns]"
      ]
     },
     "execution_count": 25,
     "metadata": {},
     "output_type": "execute_result"
    }
   ],
   "source": [
    "getData(719, df)"
   ]
  },
  {
   "cell_type": "code",
   "execution_count": 13,
   "id": "e6473491-16dc-40bf-b865-325d0c801c94",
   "metadata": {},
   "outputs": [],
   "source": [
    "def get_random(num):\n",
    "    list = []\n",
    "    for i in range(num):\n",
    "        list.append(random.randint(0,10000))\n",
    "    return list"
   ]
  },
  {
   "cell_type": "code",
   "execution_count": 14,
   "id": "ac5186eb-2a58-4668-9680-0cd024386590",
   "metadata": {},
   "outputs": [],
   "source": [
    "def generate_data(randNodes, df): \n",
    "    x = cudf.DataFrame()\n",
    "    for i in range(len(df)):\n",
    "        rand = getData(i, df)\n",
    "        rand['TempReadings']= np.nan\n",
    "        for num in randNodes:\n",
    "            rand['TempReadings'][num] = rand.iloc[num,1]\n",
    "        min = rand['TempReadings'].min()\n",
    "        rand['TempReadings'] = rand['TempReadings'].fillna(min)\n",
    "        data = [x,rand]\n",
    "        x = cudf.concat(data)\n",
    "    return x"
   ]
  },
  {
   "cell_type": "code",
   "execution_count": 15,
   "id": "cd4e3b08-08d3-49be-98a6-e20fd426b5d2",
   "metadata": {
    "tags": []
   },
   "outputs": [],
   "source": [
    "def generate_data_layer4(randNodes, df): \n",
    "    x = cudf.DataFrame()\n",
    "    for i in range(len(df)):\n",
    "        rand = getData(i, df)\n",
    "        rand['TempReadings']= np.nan\n",
    "        for num in randNodes:\n",
    "            rand['TempReadings'][num] = rand.iloc[num,1]\n",
    "        min = rand['TempReadings'].min()\n",
    "        data = [x,rand]\n",
    "        x = cudf.concat(data)\n",
    "    return x"
   ]
  },
  {
   "cell_type": "code",
   "execution_count": 85,
   "id": "35932647-0aa7-4a38-b1b6-4e3a9f363424",
   "metadata": {
    "tags": []
   },
   "outputs": [
    {
     "name": "stdout",
     "output_type": "stream",
     "text": [
      "[1226, 637, 7396, 8109, 4202, 5938, 5675, 8632, 1943, 7394]\n"
     ]
    }
   ],
   "source": [
    "print(get_random(10))"
   ]
  },
  {
   "cell_type": "code",
   "execution_count": 16,
   "id": "fe90f1df-163f-4ee3-8ac7-3fcd033c3835",
   "metadata": {
    "tags": []
   },
   "outputs": [],
   "source": [
    "randNodes = [1226, 637, 7396, 8109, 4202, 5938, 5675, 8632, 1943, 7394]"
   ]
  },
  {
   "cell_type": "code",
   "execution_count": 14,
   "id": "8c23527c-bbab-4e9a-bf49-8edc1ef79259",
   "metadata": {
    "tags": []
   },
   "outputs": [
    {
     "name": "stderr",
     "output_type": "stream",
     "text": [
      "\n",
      "KeyboardInterrupt\n",
      "\n"
     ]
    }
   ],
   "source": [
    "layer_4_data_10 = generate_data_layer4(randNodes, df_4)\n",
    "layer_1_data_10 = generate_data(randNodes, df_1)\n",
    "new_data_10 = cudf.concat([layer_4_data_10, layer_1_data_10])\n",
    "new_data_10.to_csv(\"new_data_10_different_imputers\")"
   ]
  },
  {
   "cell_type": "code",
   "execution_count": 26,
   "id": "29266e26-2345-408a-8c4d-b8bd15ad9596",
   "metadata": {
    "tags": []
   },
   "outputs": [],
   "source": [
    "data_10 = generate_data(randNodes, df)\n",
    "data_10.to_csv(\"new_data_10.csv\")"
   ]
  },
  {
   "cell_type": "code",
   "execution_count": 50,
   "id": "1646703b-b5d8-4fee-9b7b-c7bc09aa5f43",
   "metadata": {
    "tags": []
   },
   "outputs": [
    {
     "data": {
      "text/html": [
       "<div>\n",
       "<style scoped>\n",
       "    .dataframe tbody tr th:only-of-type {\n",
       "        vertical-align: middle;\n",
       "    }\n",
       "\n",
       "    .dataframe tbody tr th {\n",
       "        vertical-align: top;\n",
       "    }\n",
       "\n",
       "    .dataframe thead th {\n",
       "        text-align: right;\n",
       "    }\n",
       "</style>\n",
       "<table border=\"1\" class=\"dataframe\">\n",
       "  <thead>\n",
       "    <tr style=\"text-align: right;\">\n",
       "      <th></th>\n",
       "      <th>PowerPerNode</th>\n",
       "      <th>NodeTemp</th>\n",
       "      <th>NodeName</th>\n",
       "      <th>index1</th>\n",
       "      <th>layer</th>\n",
       "      <th>TempReadings</th>\n",
       "    </tr>\n",
       "  </thead>\n",
       "  <tbody>\n",
       "    <tr>\n",
       "      <th>0</th>\n",
       "      <td>0.00219</td>\n",
       "      <td>47.69</td>\n",
       "      <td>V(NODE4_0_0)</td>\n",
       "      <td>0</td>\n",
       "      <td>4</td>\n",
       "      <td>NaN</td>\n",
       "    </tr>\n",
       "    <tr>\n",
       "      <th>1</th>\n",
       "      <td>0.00219</td>\n",
       "      <td>47.69</td>\n",
       "      <td>V(NODE4_0_1)</td>\n",
       "      <td>1</td>\n",
       "      <td>4</td>\n",
       "      <td>NaN</td>\n",
       "    </tr>\n",
       "    <tr>\n",
       "      <th>2</th>\n",
       "      <td>0.00219</td>\n",
       "      <td>47.69</td>\n",
       "      <td>V(NODE4_0_2)</td>\n",
       "      <td>2</td>\n",
       "      <td>4</td>\n",
       "      <td>NaN</td>\n",
       "    </tr>\n",
       "    <tr>\n",
       "      <th>3</th>\n",
       "      <td>0.00219</td>\n",
       "      <td>47.69</td>\n",
       "      <td>V(NODE4_0_3)</td>\n",
       "      <td>3</td>\n",
       "      <td>4</td>\n",
       "      <td>NaN</td>\n",
       "    </tr>\n",
       "    <tr>\n",
       "      <th>4</th>\n",
       "      <td>0.00219</td>\n",
       "      <td>47.70</td>\n",
       "      <td>V(NODE4_0_4)</td>\n",
       "      <td>4</td>\n",
       "      <td>4</td>\n",
       "      <td>NaN</td>\n",
       "    </tr>\n",
       "    <tr>\n",
       "      <th>...</th>\n",
       "      <td>...</td>\n",
       "      <td>...</td>\n",
       "      <td>...</td>\n",
       "      <td>...</td>\n",
       "      <td>...</td>\n",
       "      <td>...</td>\n",
       "    </tr>\n",
       "    <tr>\n",
       "      <th>9995</th>\n",
       "      <td>0.00190</td>\n",
       "      <td>46.97</td>\n",
       "      <td>V(NODE1_99_95)</td>\n",
       "      <td>9995</td>\n",
       "      <td>1</td>\n",
       "      <td>47.2</td>\n",
       "    </tr>\n",
       "    <tr>\n",
       "      <th>9996</th>\n",
       "      <td>0.00190</td>\n",
       "      <td>46.96</td>\n",
       "      <td>V(NODE1_99_96)</td>\n",
       "      <td>9996</td>\n",
       "      <td>1</td>\n",
       "      <td>47.2</td>\n",
       "    </tr>\n",
       "    <tr>\n",
       "      <th>9997</th>\n",
       "      <td>0.00190</td>\n",
       "      <td>46.96</td>\n",
       "      <td>V(NODE1_99_97)</td>\n",
       "      <td>9997</td>\n",
       "      <td>1</td>\n",
       "      <td>47.2</td>\n",
       "    </tr>\n",
       "    <tr>\n",
       "      <th>9998</th>\n",
       "      <td>0.00190</td>\n",
       "      <td>46.96</td>\n",
       "      <td>V(NODE1_99_98)</td>\n",
       "      <td>9998</td>\n",
       "      <td>1</td>\n",
       "      <td>47.2</td>\n",
       "    </tr>\n",
       "    <tr>\n",
       "      <th>9999</th>\n",
       "      <td>0.00190</td>\n",
       "      <td>46.96</td>\n",
       "      <td>V(NODE1_99_99)</td>\n",
       "      <td>9999</td>\n",
       "      <td>1</td>\n",
       "      <td>47.2</td>\n",
       "    </tr>\n",
       "  </tbody>\n",
       "</table>\n",
       "<p>7200000 rows × 6 columns</p>\n",
       "</div>"
      ],
      "text/plain": [
       "      PowerPerNode  NodeTemp        NodeName  index1  layer  TempReadings\n",
       "0          0.00219     47.69    V(NODE4_0_0)       0      4           NaN\n",
       "1          0.00219     47.69    V(NODE4_0_1)       1      4           NaN\n",
       "2          0.00219     47.69    V(NODE4_0_2)       2      4           NaN\n",
       "3          0.00219     47.69    V(NODE4_0_3)       3      4           NaN\n",
       "4          0.00219     47.70    V(NODE4_0_4)       4      4           NaN\n",
       "...            ...       ...             ...     ...    ...           ...\n",
       "9995       0.00190     46.97  V(NODE1_99_95)    9995      1          47.2\n",
       "9996       0.00190     46.96  V(NODE1_99_96)    9996      1          47.2\n",
       "9997       0.00190     46.96  V(NODE1_99_97)    9997      1          47.2\n",
       "9998       0.00190     46.96  V(NODE1_99_98)    9998      1          47.2\n",
       "9999       0.00190     46.96  V(NODE1_99_99)    9999      1          47.2\n",
       "\n",
       "[7200000 rows x 6 columns]"
      ]
     },
     "execution_count": 50,
     "metadata": {},
     "output_type": "execute_result"
    }
   ],
   "source": [
    "data_10"
   ]
  },
  {
   "cell_type": "code",
   "execution_count": 26,
   "id": "1a1e1821-2ff4-4105-af54-6e76610fb1ca",
   "metadata": {
    "tags": []
   },
   "outputs": [],
   "source": [
    "data_10 = cudf.read_csv('new_data_10.csv')\n",
    "\n"
   ]
  },
  {
   "cell_type": "code",
   "execution_count": 18,
   "id": "6c2d61d6-648c-4272-ad1f-9beb6ba5bfd1",
   "metadata": {
    "tags": []
   },
   "outputs": [
    {
     "data": {
      "text/html": [
       "<div>\n",
       "<style scoped>\n",
       "    .dataframe tbody tr th:only-of-type {\n",
       "        vertical-align: middle;\n",
       "    }\n",
       "\n",
       "    .dataframe tbody tr th {\n",
       "        vertical-align: top;\n",
       "    }\n",
       "\n",
       "    .dataframe thead th {\n",
       "        text-align: right;\n",
       "    }\n",
       "</style>\n",
       "<table border=\"1\" class=\"dataframe\">\n",
       "  <thead>\n",
       "    <tr style=\"text-align: right;\">\n",
       "      <th></th>\n",
       "      <th>Unnamed: 0</th>\n",
       "      <th>PowerPerNode</th>\n",
       "      <th>NodeTemp</th>\n",
       "      <th>NodeName</th>\n",
       "      <th>index1</th>\n",
       "      <th>layer</th>\n",
       "      <th>TempReadings</th>\n",
       "    </tr>\n",
       "  </thead>\n",
       "  <tbody>\n",
       "    <tr>\n",
       "      <th>0</th>\n",
       "      <td>0</td>\n",
       "      <td>0.00219</td>\n",
       "      <td>47.69</td>\n",
       "      <td>V(NODE4_0_0)</td>\n",
       "      <td>0</td>\n",
       "      <td>4</td>\n",
       "      <td>45.85</td>\n",
       "    </tr>\n",
       "    <tr>\n",
       "      <th>1</th>\n",
       "      <td>1</td>\n",
       "      <td>0.00219</td>\n",
       "      <td>47.69</td>\n",
       "      <td>V(NODE4_0_1)</td>\n",
       "      <td>1</td>\n",
       "      <td>4</td>\n",
       "      <td>45.85</td>\n",
       "    </tr>\n",
       "    <tr>\n",
       "      <th>2</th>\n",
       "      <td>2</td>\n",
       "      <td>0.00219</td>\n",
       "      <td>47.69</td>\n",
       "      <td>V(NODE4_0_2)</td>\n",
       "      <td>2</td>\n",
       "      <td>4</td>\n",
       "      <td>45.85</td>\n",
       "    </tr>\n",
       "    <tr>\n",
       "      <th>3</th>\n",
       "      <td>3</td>\n",
       "      <td>0.00219</td>\n",
       "      <td>47.69</td>\n",
       "      <td>V(NODE4_0_3)</td>\n",
       "      <td>3</td>\n",
       "      <td>4</td>\n",
       "      <td>45.85</td>\n",
       "    </tr>\n",
       "    <tr>\n",
       "      <th>4</th>\n",
       "      <td>4</td>\n",
       "      <td>0.00219</td>\n",
       "      <td>47.70</td>\n",
       "      <td>V(NODE4_0_4)</td>\n",
       "      <td>4</td>\n",
       "      <td>4</td>\n",
       "      <td>45.85</td>\n",
       "    </tr>\n",
       "    <tr>\n",
       "      <th>...</th>\n",
       "      <td>...</td>\n",
       "      <td>...</td>\n",
       "      <td>...</td>\n",
       "      <td>...</td>\n",
       "      <td>...</td>\n",
       "      <td>...</td>\n",
       "      <td>...</td>\n",
       "    </tr>\n",
       "    <tr>\n",
       "      <th>7199995</th>\n",
       "      <td>9995</td>\n",
       "      <td>0.00190</td>\n",
       "      <td>46.97</td>\n",
       "      <td>V(NODE1_99_95)</td>\n",
       "      <td>9995</td>\n",
       "      <td>1</td>\n",
       "      <td>47.20</td>\n",
       "    </tr>\n",
       "    <tr>\n",
       "      <th>7199996</th>\n",
       "      <td>9996</td>\n",
       "      <td>0.00190</td>\n",
       "      <td>46.96</td>\n",
       "      <td>V(NODE1_99_96)</td>\n",
       "      <td>9996</td>\n",
       "      <td>1</td>\n",
       "      <td>47.20</td>\n",
       "    </tr>\n",
       "    <tr>\n",
       "      <th>7199997</th>\n",
       "      <td>9997</td>\n",
       "      <td>0.00190</td>\n",
       "      <td>46.96</td>\n",
       "      <td>V(NODE1_99_97)</td>\n",
       "      <td>9997</td>\n",
       "      <td>1</td>\n",
       "      <td>47.20</td>\n",
       "    </tr>\n",
       "    <tr>\n",
       "      <th>7199998</th>\n",
       "      <td>9998</td>\n",
       "      <td>0.00190</td>\n",
       "      <td>46.96</td>\n",
       "      <td>V(NODE1_99_98)</td>\n",
       "      <td>9998</td>\n",
       "      <td>1</td>\n",
       "      <td>47.20</td>\n",
       "    </tr>\n",
       "    <tr>\n",
       "      <th>7199999</th>\n",
       "      <td>9999</td>\n",
       "      <td>0.00190</td>\n",
       "      <td>46.96</td>\n",
       "      <td>V(NODE1_99_99)</td>\n",
       "      <td>9999</td>\n",
       "      <td>1</td>\n",
       "      <td>47.20</td>\n",
       "    </tr>\n",
       "  </tbody>\n",
       "</table>\n",
       "<p>7200000 rows × 7 columns</p>\n",
       "</div>"
      ],
      "text/plain": [
       "         Unnamed: 0  PowerPerNode  NodeTemp        NodeName  index1  layer  \\\n",
       "0                 0       0.00219     47.69    V(NODE4_0_0)       0      4   \n",
       "1                 1       0.00219     47.69    V(NODE4_0_1)       1      4   \n",
       "2                 2       0.00219     47.69    V(NODE4_0_2)       2      4   \n",
       "3                 3       0.00219     47.69    V(NODE4_0_3)       3      4   \n",
       "4                 4       0.00219     47.70    V(NODE4_0_4)       4      4   \n",
       "...             ...           ...       ...             ...     ...    ...   \n",
       "7199995        9995       0.00190     46.97  V(NODE1_99_95)    9995      1   \n",
       "7199996        9996       0.00190     46.96  V(NODE1_99_96)    9996      1   \n",
       "7199997        9997       0.00190     46.96  V(NODE1_99_97)    9997      1   \n",
       "7199998        9998       0.00190     46.96  V(NODE1_99_98)    9998      1   \n",
       "7199999        9999       0.00190     46.96  V(NODE1_99_99)    9999      1   \n",
       "\n",
       "         TempReadings  \n",
       "0               45.85  \n",
       "1               45.85  \n",
       "2               45.85  \n",
       "3               45.85  \n",
       "4               45.85  \n",
       "...               ...  \n",
       "7199995         47.20  \n",
       "7199996         47.20  \n",
       "7199997         47.20  \n",
       "7199998         47.20  \n",
       "7199999         47.20  \n",
       "\n",
       "[7200000 rows x 7 columns]"
      ]
     },
     "execution_count": 18,
     "metadata": {},
     "output_type": "execute_result"
    }
   ],
   "source": [
    "data_10\n"
   ]
  },
  {
   "cell_type": "code",
   "execution_count": 27,
   "id": "aa08373d-2d57-4509-88a8-7fd60d814aa0",
   "metadata": {
    "tags": []
   },
   "outputs": [],
   "source": [
    "new_data_10 = data_10.copy()\n",
    "\n",
    "\n",
    "results = new_data_10[:3600000].loc[new_data_10.iloc[:3600000][\"index1\"].isin(randNodes) != True]\n",
    "results[\"TempReadings\"] = np.nan\n",
    "new = new_data_10[:3600000].loc[new_data_10.iloc[:3600000][\"index1\"].isin(randNodes)]\n",
    "results = results.to_pandas().combine_first(new.to_pandas())\n",
    "results = cudf.DataFrame(results)\n",
    "new_data_10.iloc[:3600000] = results\n",
    "\n"
   ]
  },
  {
   "cell_type": "code",
   "execution_count": 20,
   "id": "e749bddb-3b35-45ae-86d7-b4b9c2a5c40b",
   "metadata": {
    "tags": []
   },
   "outputs": [],
   "source": [
    "def getNewData(data, list):\n",
    "    df = data.copy()\n",
    "    results = df[:3600000].loc[df.iloc[:3600000][\"index1\"].isin(list) != True]\n",
    "    results[\"TempReadings\"] = np.nan\n",
    "    new = df[:3600000].loc[df.iloc[:3600000][\"index1\"].isin(list)]\n",
    "    results = results.to_pandas().combine_first(new.to_pandas())\n",
    "    results = cudf.DataFrame(results)\n",
    "    df.iloc[:3600000] = results\n",
    "    return df"
   ]
  },
  {
   "cell_type": "code",
   "execution_count": 21,
   "id": "f1d50f03-09db-4fa3-a521-1f6d4aeb35ba",
   "metadata": {
    "tags": []
   },
   "outputs": [],
   "source": [
    "def impute_data(x):\n",
    "    temp = x.to_pandas()\n",
    "    imputer = IterativeImputer(estimator = DecisionTreeRegressor(), random_state = 0)\n",
    "    imputed = imputer.fit_transform(temp[['TempReadings','index1','PowerPerNode', 'layer']])\n",
    "    df_imputed = cudf.DataFrame(imputed, columns = ['TempReadings','index1','PowerPerNode', 'layer'])\n",
    "    return df_imputed"
   ]
  },
  {
   "cell_type": "code",
   "execution_count": 22,
   "id": "e227c362-50ec-4027-b99d-e91366d3ad18",
   "metadata": {
    "tags": []
   },
   "outputs": [],
   "source": [
    "def get_regression(data):\n",
    "    if data.isnull().any().any() == True:\n",
    "        df_imputed = impute_data(data)\n",
    "    else:\n",
    "        df_imputed = data\n",
    "    X = df_imputed[['PowerPerNode', 'index1', 'TempReadings', 'layer']].to_pandas()\n",
    "    y = data['NodeTemp'].to_pandas()\n",
    "    X_train, X_test, y_train, y_test = tts(X, y, test_size = 0.25)\n",
    "    regr = DecisionTreeRegressor()\n",
    "    regr.fit(X_train, y_train)\n",
    "    return regr, X_train, X_test, y_train, y_test\n",
    "    "
   ]
  },
  {
   "cell_type": "code",
   "execution_count": 23,
   "id": "6b51ecc9-931c-466c-aece-ccdb0ddad6b1",
   "metadata": {
    "tags": []
   },
   "outputs": [],
   "source": [
    "def get_score(regr, X_train, X_test, y_train, y_test):\n",
    "    scores = cross_val_score(regr, X_train, y_train, scoring='r2', cv=5)\n",
    "    return regr.score(X_test, y_test), scores\n",
    "    "
   ]
  },
  {
   "cell_type": "code",
   "execution_count": 30,
   "id": "027adde7-11da-4064-adc0-a49c890b05c7",
   "metadata": {
    "tags": []
   },
   "outputs": [],
   "source": [
    "regr_10, X_train, X_test, y_train, y_test = get_regression(data_10)"
   ]
  },
  {
   "cell_type": "code",
   "execution_count": 31,
   "id": "a939d398-2c24-4d0e-a40b-993c436d65fc",
   "metadata": {},
   "outputs": [
    {
     "name": "stdout",
     "output_type": "stream",
     "text": [
      "(0.8705804989742921, array([0.86980782, 0.87153072, 0.87001366, 0.87310033, 0.87085522]))\n"
     ]
    }
   ],
   "source": [
    "print(get_score(regr_10, X_train, X_test, y_train, y_test))"
   ]
  },
  {
   "cell_type": "code",
   "execution_count": 31,
   "id": "0d3e4e79-b01a-40c1-a504-fe76e3c848c1",
   "metadata": {
    "tags": []
   },
   "outputs": [],
   "source": [
    "regr_10_new, X_train, X_test, y_train, y_test = get_regression(new_data_10)"
   ]
  },
  {
   "cell_type": "code",
   "execution_count": 32,
   "id": "4424ad2e-ad5d-4785-9da3-33f2dc5c16a7",
   "metadata": {
    "tags": []
   },
   "outputs": [
    {
     "name": "stdout",
     "output_type": "stream",
     "text": [
      "(0.8541461279124711, array([0.85695411, 0.85569585, 0.85606709, 0.85557115, 0.85498401]))\n"
     ]
    }
   ],
   "source": [
    "print(get_score(regr_10_new, X_train, X_test, y_train, y_test))"
   ]
  },
  {
   "cell_type": "code",
   "execution_count": 155,
   "id": "291d06bf-599c-45ed-9457-ad8f871d954a",
   "metadata": {
    "tags": []
   },
   "outputs": [],
   "source": [
    "start = time.time()\n",
    "\n",
    "data_10_new_inputs = impute_data(new_data_10)\n",
    "\n",
    "end = time.time()"
   ]
  },
  {
   "cell_type": "code",
   "execution_count": 156,
   "id": "fe2edbb2-8ac7-4d7b-9c24-fd9354c2c3d9",
   "metadata": {
    "tags": []
   },
   "outputs": [
    {
     "data": {
      "text/plain": [
       "62.80381941795349"
      ]
     },
     "execution_count": 156,
     "metadata": {},
     "output_type": "execute_result"
    }
   ],
   "source": [
    "end-start"
   ]
  },
  {
   "cell_type": "code",
   "execution_count": 159,
   "id": "f3edb124-6b8f-4308-ad7f-84ae0dee5e8c",
   "metadata": {
    "tags": []
   },
   "outputs": [
    {
     "data": {
      "text/html": [
       "<div>\n",
       "<style scoped>\n",
       "    .dataframe tbody tr th:only-of-type {\n",
       "        vertical-align: middle;\n",
       "    }\n",
       "\n",
       "    .dataframe tbody tr th {\n",
       "        vertical-align: top;\n",
       "    }\n",
       "\n",
       "    .dataframe thead th {\n",
       "        text-align: right;\n",
       "    }\n",
       "</style>\n",
       "<table border=\"1\" class=\"dataframe\">\n",
       "  <thead>\n",
       "    <tr style=\"text-align: right;\">\n",
       "      <th></th>\n",
       "      <th>TempReadings</th>\n",
       "      <th>index1</th>\n",
       "      <th>PowerPerNode</th>\n",
       "      <th>layer</th>\n",
       "    </tr>\n",
       "  </thead>\n",
       "  <tbody>\n",
       "    <tr>\n",
       "      <th>0</th>\n",
       "      <td>48.39</td>\n",
       "      <td>0.0</td>\n",
       "      <td>0.00219</td>\n",
       "      <td>4.0</td>\n",
       "    </tr>\n",
       "    <tr>\n",
       "      <th>1</th>\n",
       "      <td>48.39</td>\n",
       "      <td>1.0</td>\n",
       "      <td>0.00219</td>\n",
       "      <td>4.0</td>\n",
       "    </tr>\n",
       "    <tr>\n",
       "      <th>2</th>\n",
       "      <td>48.39</td>\n",
       "      <td>2.0</td>\n",
       "      <td>0.00219</td>\n",
       "      <td>4.0</td>\n",
       "    </tr>\n",
       "    <tr>\n",
       "      <th>3</th>\n",
       "      <td>48.39</td>\n",
       "      <td>3.0</td>\n",
       "      <td>0.00219</td>\n",
       "      <td>4.0</td>\n",
       "    </tr>\n",
       "    <tr>\n",
       "      <th>4</th>\n",
       "      <td>48.39</td>\n",
       "      <td>4.0</td>\n",
       "      <td>0.00219</td>\n",
       "      <td>4.0</td>\n",
       "    </tr>\n",
       "    <tr>\n",
       "      <th>...</th>\n",
       "      <td>...</td>\n",
       "      <td>...</td>\n",
       "      <td>...</td>\n",
       "      <td>...</td>\n",
       "    </tr>\n",
       "    <tr>\n",
       "      <th>7199995</th>\n",
       "      <td>47.20</td>\n",
       "      <td>9995.0</td>\n",
       "      <td>0.00190</td>\n",
       "      <td>1.0</td>\n",
       "    </tr>\n",
       "    <tr>\n",
       "      <th>7199996</th>\n",
       "      <td>47.20</td>\n",
       "      <td>9996.0</td>\n",
       "      <td>0.00190</td>\n",
       "      <td>1.0</td>\n",
       "    </tr>\n",
       "    <tr>\n",
       "      <th>7199997</th>\n",
       "      <td>47.20</td>\n",
       "      <td>9997.0</td>\n",
       "      <td>0.00190</td>\n",
       "      <td>1.0</td>\n",
       "    </tr>\n",
       "    <tr>\n",
       "      <th>7199998</th>\n",
       "      <td>47.20</td>\n",
       "      <td>9998.0</td>\n",
       "      <td>0.00190</td>\n",
       "      <td>1.0</td>\n",
       "    </tr>\n",
       "    <tr>\n",
       "      <th>7199999</th>\n",
       "      <td>47.20</td>\n",
       "      <td>9999.0</td>\n",
       "      <td>0.00190</td>\n",
       "      <td>1.0</td>\n",
       "    </tr>\n",
       "  </tbody>\n",
       "</table>\n",
       "<p>7200000 rows × 4 columns</p>\n",
       "</div>"
      ],
      "text/plain": [
       "         TempReadings  index1  PowerPerNode  layer\n",
       "0               48.39     0.0       0.00219    4.0\n",
       "1               48.39     1.0       0.00219    4.0\n",
       "2               48.39     2.0       0.00219    4.0\n",
       "3               48.39     3.0       0.00219    4.0\n",
       "4               48.39     4.0       0.00219    4.0\n",
       "...               ...     ...           ...    ...\n",
       "7199995         47.20  9995.0       0.00190    1.0\n",
       "7199996         47.20  9996.0       0.00190    1.0\n",
       "7199997         47.20  9997.0       0.00190    1.0\n",
       "7199998         47.20  9998.0       0.00190    1.0\n",
       "7199999         47.20  9999.0       0.00190    1.0\n",
       "\n",
       "[7200000 rows x 4 columns]"
      ]
     },
     "execution_count": 159,
     "metadata": {},
     "output_type": "execute_result"
    }
   ],
   "source": [
    "data_10_new_inputs"
   ]
  },
  {
   "cell_type": "code",
   "execution_count": 32,
   "id": "b1c91ef4-6bcc-4d18-9bb8-d8bd9ebf2b18",
   "metadata": {
    "tags": []
   },
   "outputs": [],
   "source": [
    "X_new = data_10[['PowerPerNode','index1','TempReadings','layer' ]].iloc[7190000:7200000].to_pandas()\n"
   ]
  },
  {
   "cell_type": "code",
   "execution_count": 33,
   "id": "3c61fa51-0c2b-4021-aac5-2dfa66ff6034",
   "metadata": {},
   "outputs": [
    {
     "data": {
      "text/plain": [
       "0.8009537758541068"
      ]
     },
     "execution_count": 33,
     "metadata": {},
     "output_type": "execute_result"
    }
   ],
   "source": [
    "r2_score(regr_10.predict(X_new), data_10['NodeTemp'].iloc[7190000:7200000].to_pandas())"
   ]
  },
  {
   "cell_type": "code",
   "execution_count": 76,
   "id": "64d8810d-4fcc-4832-82c8-216993807e93",
   "metadata": {
    "tags": []
   },
   "outputs": [],
   "source": [
    "start = time.time()\n",
    "\n",
    "prediction = regr_10.predict(X_new)\n",
    "\n",
    "end = time.time()"
   ]
  },
  {
   "cell_type": "markdown",
   "id": "84508548-afd9-4a84-bab6-5f53e47814d2",
   "metadata": {},
   "source": [
    "Code to generate a visualpact file for the first predicted layer 4 of the minimum regr_10 model\n",
    "-When Running VisualPACT with model generated file\n",
    "-need to specificy which layer, and select kelvin = true because the model already applied a kelvin offset. "
   ]
  },
  {
   "cell_type": "code",
   "execution_count": 77,
   "id": "d7548cbe-4c27-4bc9-b593-f78b89cb571d",
   "metadata": {
    "tags": []
   },
   "outputs": [
    {
     "data": {
      "text/plain": [
       "0.0035936832427978516"
      ]
     },
     "execution_count": 77,
     "metadata": {},
     "output_type": "execute_result"
    }
   ],
   "source": [
    "end-start"
   ]
  },
  {
   "cell_type": "code",
   "execution_count": 140,
   "id": "4068a490-b437-4541-a525-13579611220d",
   "metadata": {
    "tags": []
   },
   "outputs": [
    {
     "name": "stdout",
     "output_type": "stream",
     "text": [
      "[48.34 48.34 48.34 ... 46.4  46.4  46.4 ]\n"
     ]
    }
   ],
   "source": [
    "print(prediction)"
   ]
  },
  {
   "cell_type": "code",
   "execution_count": 134,
   "id": "c427b23e-cdc2-4ca0-82a2-80d3cfd1e340",
   "metadata": {},
   "outputs": [],
   "source": [
    "prediction = regr_10.predict(data_10[['PowerPerNode', 'index1', 'TempReadings', 'layer']].to_pandas())\n",
    "prediction = prediction.reshape(-1,1)\n",
    "p = cudf.DataFrame(prediction)\n",
    "first_layer = p.iloc[10000:20000].transpose()\n",
    "first_layer.columns = data_10[\"NodeName\"].iloc[:10000].to_pandas().to_list()\n",
    "first_layer.to_csv(\"predicted_second_layer4.cir.csv\") #minimum model prediction for the first layer"
   ]
  },
  {
   "cell_type": "code",
   "execution_count": 106,
   "id": "ab236fab-fac2-4ac3-833e-de6050132227",
   "metadata": {
    "tags": []
   },
   "outputs": [],
   "source": [
    "prediction = regr_10.predict(data_10[['PowerPerNode', 'index1', 'TempReadings', 'layer']].to_pandas())\n",
    "prediction = prediction.reshape(-1,1)\n",
    "p = cudf.DataFrame(prediction)\n",
    "first_layer = p.iloc[7190000:7200000].transpose()\n",
    "first_layer.columns = data_10[\"NodeName\"].iloc[3600000:3610000].to_pandas().to_list()\n",
    "first_layer.to_csv(\"predicted_output260_layer1.cir.csv\") #minimum model prediction for the first layer"
   ]
  },
  {
   "cell_type": "code",
   "execution_count": 146,
   "id": "0e6b7edd-8251-4948-96d1-6badd027833a",
   "metadata": {
    "tags": []
   },
   "outputs": [
    {
     "name": "stdout",
     "output_type": "stream",
     "text": [
      "[3166, 8994, 2237, 1525, 664, 4317, 7596, 9846, 774, 1739, 231, 8335, 2341, 5442, 6989, 5002, 7934, 1207, 591, 232, 7688, 509, 511, 6620, 9705, 4593, 2241, 6411, 8329, 2071, 4912, 1597, 6879, 2683, 1344, 3564, 4452, 8723, 5805, 6533, 4806, 258, 8153, 4272, 9577, 1123, 9884, 6250, 5745, 2009]\n"
     ]
    }
   ],
   "source": [
    "print(get_random(50))"
   ]
  },
  {
   "cell_type": "code",
   "execution_count": 22,
   "id": "b944c9f4-4c96-4aec-8eec-8326d916beab",
   "metadata": {
    "tags": []
   },
   "outputs": [],
   "source": [
    "randNodes20 = [1322, 7102, 6675, 1979, 5896, 1051, 2521, 4044, 2379, 5022, 8273, 4658, 8678, 5758, 8701, 3196, 1148, 227, 4655, 810]"
   ]
  },
  {
   "cell_type": "code",
   "execution_count": 80,
   "id": "50646e59-5ac4-41da-822f-46e16561f86f",
   "metadata": {
    "tags": []
   },
   "outputs": [],
   "source": [
    "data_20 = generate_data(randNodes20, df)\n",
    "data_20.to_csv(\"new_data_20.csv\")"
   ]
  },
  {
   "cell_type": "code",
   "execution_count": 45,
   "id": "6d01a1b4-2b64-452c-a2a2-251d2162f0b5",
   "metadata": {},
   "outputs": [],
   "source": [
    "data_20 = cudf.read_csv(\"new_data_20.csv\")\n"
   ]
  },
  {
   "cell_type": "code",
   "execution_count": 24,
   "id": "111a3085-2c2b-4da7-a3b9-6b48fb6af308",
   "metadata": {
    "tags": []
   },
   "outputs": [],
   "source": [
    "new_data_20 = getNewData(data_20, randNodes20)"
   ]
  },
  {
   "cell_type": "code",
   "execution_count": 27,
   "id": "d05149a0-0be6-4061-b29e-726de861e5ba",
   "metadata": {
    "tags": []
   },
   "outputs": [
    {
     "data": {
      "text/html": [
       "<div>\n",
       "<style scoped>\n",
       "    .dataframe tbody tr th:only-of-type {\n",
       "        vertical-align: middle;\n",
       "    }\n",
       "\n",
       "    .dataframe tbody tr th {\n",
       "        vertical-align: top;\n",
       "    }\n",
       "\n",
       "    .dataframe thead th {\n",
       "        text-align: right;\n",
       "    }\n",
       "</style>\n",
       "<table border=\"1\" class=\"dataframe\">\n",
       "  <thead>\n",
       "    <tr style=\"text-align: right;\">\n",
       "      <th></th>\n",
       "      <th>Unnamed: 0</th>\n",
       "      <th>PowerPerNode</th>\n",
       "      <th>NodeTemp</th>\n",
       "      <th>NodeName</th>\n",
       "      <th>index1</th>\n",
       "      <th>layer</th>\n",
       "      <th>TempReadings</th>\n",
       "    </tr>\n",
       "  </thead>\n",
       "  <tbody>\n",
       "    <tr>\n",
       "      <th>1322</th>\n",
       "      <td>1322</td>\n",
       "      <td>0.00219</td>\n",
       "      <td>48.15</td>\n",
       "      <td>V(NODE4_13_22)</td>\n",
       "      <td>1322</td>\n",
       "      <td>4</td>\n",
       "      <td>48.15</td>\n",
       "    </tr>\n",
       "  </tbody>\n",
       "</table>\n",
       "</div>"
      ],
      "text/plain": [
       "      Unnamed: 0  PowerPerNode  NodeTemp        NodeName  index1  layer  \\\n",
       "1322        1322       0.00219     48.15  V(NODE4_13_22)    1322      4   \n",
       "\n",
       "      TempReadings  \n",
       "1322         48.15  "
      ]
     },
     "execution_count": 27,
     "metadata": {},
     "output_type": "execute_result"
    }
   ],
   "source": [
    "new_data_20.iloc[randNodes20[0]]"
   ]
  },
  {
   "cell_type": "code",
   "execution_count": 28,
   "id": "850815c9-9e78-4d27-9277-86e9aa8c0d01",
   "metadata": {
    "tags": []
   },
   "outputs": [],
   "source": [
    "regr_20_new, X_train, X_test, y_train, y_test = get_regression(new_data_20)"
   ]
  },
  {
   "cell_type": "code",
   "execution_count": 30,
   "id": "c5139689-9a26-453f-ae6a-2feac2f0c8ba",
   "metadata": {
    "tags": []
   },
   "outputs": [
    {
     "name": "stdout",
     "output_type": "stream",
     "text": [
      "(0.8711092924793151, array([0.87149608, 0.87048506, 0.86964264, 0.87081213, 0.87168396]))\n"
     ]
    }
   ],
   "source": [
    "print(get_score(regr_20_new, X_train, X_test, y_train, y_test))"
   ]
  },
  {
   "cell_type": "code",
   "execution_count": 64,
   "id": "0af1f006-cd0c-4690-a2b1-fd1f676595a5",
   "metadata": {
    "tags": []
   },
   "outputs": [],
   "source": [
    "regr_20, X_train, X_test, y_train, y_test = get_regression(data_20)"
   ]
  },
  {
   "cell_type": "code",
   "execution_count": 35,
   "id": "6aef5968-648d-48e1-9196-1f17cb7d5b5a",
   "metadata": {
    "tags": []
   },
   "outputs": [
    {
     "name": "stdout",
     "output_type": "stream",
     "text": [
      "(0.8708641627421201, array([0.87153499, 0.87229378, 0.87157605, 0.86931194, 0.87151916]))\n"
     ]
    }
   ],
   "source": [
    "print(get_score(regr_20, X_train, X_test, y_train, y_test))"
   ]
  },
  {
   "cell_type": "code",
   "execution_count": 36,
   "id": "f89b7bb0-b256-4c9c-bcde-f47273674951",
   "metadata": {
    "tags": []
   },
   "outputs": [],
   "source": [
    "new_data_20_inputs = impute_data(new_data_20)"
   ]
  },
  {
   "cell_type": "code",
   "execution_count": 69,
   "id": "2e50fe4a-8def-43c9-801d-f217adf72d80",
   "metadata": {},
   "outputs": [],
   "source": [
    "X_new = new_data_20_inputs[['PowerPerNode','index1','TempReadings','layer' ]].iloc[3600000:].to_pandas()"
   ]
  },
  {
   "cell_type": "code",
   "execution_count": 70,
   "id": "927a6b69-2abb-4fbf-aea2-8c26183b78da",
   "metadata": {
    "tags": []
   },
   "outputs": [
    {
     "data": {
      "text/plain": [
       "0.8864527413580687"
      ]
     },
     "execution_count": 70,
     "metadata": {},
     "output_type": "execute_result"
    }
   ],
   "source": [
    "r2_score(regr_20_new.predict(X_new), new_data_20['NodeTemp'].iloc[3600000:].to_pandas())"
   ]
  },
  {
   "cell_type": "code",
   "execution_count": 53,
   "id": "072436c7-383b-4def-9250-307a6c2d60b0",
   "metadata": {
    "tags": []
   },
   "outputs": [
    {
     "data": {
      "text/html": [
       "<div>\n",
       "<style scoped>\n",
       "    .dataframe tbody tr th:only-of-type {\n",
       "        vertical-align: middle;\n",
       "    }\n",
       "\n",
       "    .dataframe tbody tr th {\n",
       "        vertical-align: top;\n",
       "    }\n",
       "\n",
       "    .dataframe thead th {\n",
       "        text-align: right;\n",
       "    }\n",
       "</style>\n",
       "<table border=\"1\" class=\"dataframe\">\n",
       "  <thead>\n",
       "    <tr style=\"text-align: right;\">\n",
       "      <th></th>\n",
       "      <th>PowerPerNode</th>\n",
       "      <th>index1</th>\n",
       "      <th>TempReadings</th>\n",
       "      <th>layer</th>\n",
       "    </tr>\n",
       "  </thead>\n",
       "  <tbody>\n",
       "    <tr>\n",
       "      <th>0</th>\n",
       "      <td>0.002190</td>\n",
       "      <td>0</td>\n",
       "      <td>46.11</td>\n",
       "      <td>4</td>\n",
       "    </tr>\n",
       "    <tr>\n",
       "      <th>1</th>\n",
       "      <td>0.002190</td>\n",
       "      <td>1</td>\n",
       "      <td>46.11</td>\n",
       "      <td>4</td>\n",
       "    </tr>\n",
       "    <tr>\n",
       "      <th>2</th>\n",
       "      <td>0.002190</td>\n",
       "      <td>2</td>\n",
       "      <td>46.11</td>\n",
       "      <td>4</td>\n",
       "    </tr>\n",
       "    <tr>\n",
       "      <th>3</th>\n",
       "      <td>0.002190</td>\n",
       "      <td>3</td>\n",
       "      <td>46.11</td>\n",
       "      <td>4</td>\n",
       "    </tr>\n",
       "    <tr>\n",
       "      <th>4</th>\n",
       "      <td>0.002190</td>\n",
       "      <td>4</td>\n",
       "      <td>46.11</td>\n",
       "      <td>4</td>\n",
       "    </tr>\n",
       "    <tr>\n",
       "      <th>...</th>\n",
       "      <td>...</td>\n",
       "      <td>...</td>\n",
       "      <td>...</td>\n",
       "      <td>...</td>\n",
       "    </tr>\n",
       "    <tr>\n",
       "      <th>3599995</th>\n",
       "      <td>0.003009</td>\n",
       "      <td>9995</td>\n",
       "      <td>46.36</td>\n",
       "      <td>4</td>\n",
       "    </tr>\n",
       "    <tr>\n",
       "      <th>3599996</th>\n",
       "      <td>0.003009</td>\n",
       "      <td>9996</td>\n",
       "      <td>46.36</td>\n",
       "      <td>4</td>\n",
       "    </tr>\n",
       "    <tr>\n",
       "      <th>3599997</th>\n",
       "      <td>0.003009</td>\n",
       "      <td>9997</td>\n",
       "      <td>46.36</td>\n",
       "      <td>4</td>\n",
       "    </tr>\n",
       "    <tr>\n",
       "      <th>3599998</th>\n",
       "      <td>0.003009</td>\n",
       "      <td>9998</td>\n",
       "      <td>46.36</td>\n",
       "      <td>4</td>\n",
       "    </tr>\n",
       "    <tr>\n",
       "      <th>3599999</th>\n",
       "      <td>0.003009</td>\n",
       "      <td>9999</td>\n",
       "      <td>46.36</td>\n",
       "      <td>4</td>\n",
       "    </tr>\n",
       "  </tbody>\n",
       "</table>\n",
       "<p>3600000 rows × 4 columns</p>\n",
       "</div>"
      ],
      "text/plain": [
       "         PowerPerNode  index1  TempReadings  layer\n",
       "0            0.002190       0         46.11      4\n",
       "1            0.002190       1         46.11      4\n",
       "2            0.002190       2         46.11      4\n",
       "3            0.002190       3         46.11      4\n",
       "4            0.002190       4         46.11      4\n",
       "...               ...     ...           ...    ...\n",
       "3599995      0.003009    9995         46.36      4\n",
       "3599996      0.003009    9996         46.36      4\n",
       "3599997      0.003009    9997         46.36      4\n",
       "3599998      0.003009    9998         46.36      4\n",
       "3599999      0.003009    9999         46.36      4\n",
       "\n",
       "[3600000 rows x 4 columns]"
      ]
     },
     "execution_count": 53,
     "metadata": {},
     "output_type": "execute_result"
    }
   ],
   "source": [
    "X_new"
   ]
  },
  {
   "cell_type": "code",
   "execution_count": 71,
   "id": "b2d7b0c9-9568-4b26-b5bf-650ff0d9cd9b",
   "metadata": {
    "tags": []
   },
   "outputs": [],
   "source": [
    "randNodes50 = [3166, 8994, 2237, 1525, 664, 4317, 7596, 9846, 774, 1739, 231, 8335, 2341, 5442, 6989, 5002, 7934, 1207, 591, 232, 7688, 509, 511, 6620, 9705, 4593, 2241, 6411, 8329, 2071, 4912, 1597, 6879, 2683, 1344, 3564, 4452, 8723, 5805, 6533, 4806, 258, 8153, 4272, 9577, 1123, 9884, 6250, 5745, 2009]"
   ]
  },
  {
   "cell_type": "code",
   "execution_count": 72,
   "id": "7467c133-bbc8-4b7c-9cf5-690487e6c082",
   "metadata": {
    "tags": []
   },
   "outputs": [],
   "source": [
    "data_50 = generate_data(randNodes50, df)\n",
    "data_50.to_csv(\"new_data_50.csv\")"
   ]
  },
  {
   "cell_type": "code",
   "execution_count": 56,
   "id": "f7a4f556-b269-4c2c-98e7-0db1b6de3da1",
   "metadata": {
    "tags": []
   },
   "outputs": [
    {
     "data": {
      "text/html": [
       "<div>\n",
       "<style scoped>\n",
       "    .dataframe tbody tr th:only-of-type {\n",
       "        vertical-align: middle;\n",
       "    }\n",
       "\n",
       "    .dataframe tbody tr th {\n",
       "        vertical-align: top;\n",
       "    }\n",
       "\n",
       "    .dataframe thead th {\n",
       "        text-align: right;\n",
       "    }\n",
       "</style>\n",
       "<table border=\"1\" class=\"dataframe\">\n",
       "  <thead>\n",
       "    <tr style=\"text-align: right;\">\n",
       "      <th></th>\n",
       "      <th>PowerPerNode</th>\n",
       "      <th>NodeTemp</th>\n",
       "      <th>NodeName</th>\n",
       "      <th>index1</th>\n",
       "      <th>layer</th>\n",
       "      <th>TempReadings</th>\n",
       "    </tr>\n",
       "  </thead>\n",
       "  <tbody>\n",
       "    <tr>\n",
       "      <th>0</th>\n",
       "      <td>0.00219</td>\n",
       "      <td>47.69</td>\n",
       "      <td>V(NODE4_0_0)</td>\n",
       "      <td>0</td>\n",
       "      <td>4</td>\n",
       "      <td>45.85</td>\n",
       "    </tr>\n",
       "    <tr>\n",
       "      <th>1</th>\n",
       "      <td>0.00219</td>\n",
       "      <td>47.69</td>\n",
       "      <td>V(NODE4_0_1)</td>\n",
       "      <td>1</td>\n",
       "      <td>4</td>\n",
       "      <td>45.85</td>\n",
       "    </tr>\n",
       "    <tr>\n",
       "      <th>2</th>\n",
       "      <td>0.00219</td>\n",
       "      <td>47.69</td>\n",
       "      <td>V(NODE4_0_2)</td>\n",
       "      <td>2</td>\n",
       "      <td>4</td>\n",
       "      <td>45.85</td>\n",
       "    </tr>\n",
       "    <tr>\n",
       "      <th>3</th>\n",
       "      <td>0.00219</td>\n",
       "      <td>47.69</td>\n",
       "      <td>V(NODE4_0_3)</td>\n",
       "      <td>3</td>\n",
       "      <td>4</td>\n",
       "      <td>45.85</td>\n",
       "    </tr>\n",
       "    <tr>\n",
       "      <th>4</th>\n",
       "      <td>0.00219</td>\n",
       "      <td>47.70</td>\n",
       "      <td>V(NODE4_0_4)</td>\n",
       "      <td>4</td>\n",
       "      <td>4</td>\n",
       "      <td>45.85</td>\n",
       "    </tr>\n",
       "    <tr>\n",
       "      <th>...</th>\n",
       "      <td>...</td>\n",
       "      <td>...</td>\n",
       "      <td>...</td>\n",
       "      <td>...</td>\n",
       "      <td>...</td>\n",
       "      <td>...</td>\n",
       "    </tr>\n",
       "    <tr>\n",
       "      <th>9995</th>\n",
       "      <td>0.00190</td>\n",
       "      <td>46.53</td>\n",
       "      <td>V(NODE4_99_95)</td>\n",
       "      <td>9995</td>\n",
       "      <td>1</td>\n",
       "      <td>46.63</td>\n",
       "    </tr>\n",
       "    <tr>\n",
       "      <th>9996</th>\n",
       "      <td>0.00190</td>\n",
       "      <td>46.52</td>\n",
       "      <td>V(NODE4_99_96)</td>\n",
       "      <td>9996</td>\n",
       "      <td>1</td>\n",
       "      <td>46.63</td>\n",
       "    </tr>\n",
       "    <tr>\n",
       "      <th>9997</th>\n",
       "      <td>0.00190</td>\n",
       "      <td>46.52</td>\n",
       "      <td>V(NODE4_99_97)</td>\n",
       "      <td>9997</td>\n",
       "      <td>1</td>\n",
       "      <td>46.63</td>\n",
       "    </tr>\n",
       "    <tr>\n",
       "      <th>9998</th>\n",
       "      <td>0.00190</td>\n",
       "      <td>46.52</td>\n",
       "      <td>V(NODE4_99_98)</td>\n",
       "      <td>9998</td>\n",
       "      <td>1</td>\n",
       "      <td>46.63</td>\n",
       "    </tr>\n",
       "    <tr>\n",
       "      <th>9999</th>\n",
       "      <td>0.00190</td>\n",
       "      <td>46.51</td>\n",
       "      <td>V(NODE4_99_99)</td>\n",
       "      <td>9999</td>\n",
       "      <td>1</td>\n",
       "      <td>46.63</td>\n",
       "    </tr>\n",
       "  </tbody>\n",
       "</table>\n",
       "<p>7200000 rows × 6 columns</p>\n",
       "</div>"
      ],
      "text/plain": [
       "      PowerPerNode  NodeTemp        NodeName  index1  layer  TempReadings\n",
       "0          0.00219     47.69    V(NODE4_0_0)       0      4         45.85\n",
       "1          0.00219     47.69    V(NODE4_0_1)       1      4         45.85\n",
       "2          0.00219     47.69    V(NODE4_0_2)       2      4         45.85\n",
       "3          0.00219     47.69    V(NODE4_0_3)       3      4         45.85\n",
       "4          0.00219     47.70    V(NODE4_0_4)       4      4         45.85\n",
       "...            ...       ...             ...     ...    ...           ...\n",
       "9995       0.00190     46.53  V(NODE4_99_95)    9995      1         46.63\n",
       "9996       0.00190     46.52  V(NODE4_99_96)    9996      1         46.63\n",
       "9997       0.00190     46.52  V(NODE4_99_97)    9997      1         46.63\n",
       "9998       0.00190     46.52  V(NODE4_99_98)    9998      1         46.63\n",
       "9999       0.00190     46.51  V(NODE4_99_99)    9999      1         46.63\n",
       "\n",
       "[7200000 rows x 6 columns]"
      ]
     },
     "execution_count": 56,
     "metadata": {},
     "output_type": "execute_result"
    }
   ],
   "source": [
    "data_50"
   ]
  },
  {
   "cell_type": "code",
   "execution_count": 96,
   "id": "5ec6002f-b640-43c2-8ead-60b4a5ed5af0",
   "metadata": {},
   "outputs": [],
   "source": [
    "# new_data_50 = cudf.read_csv(\"new_data_50_different_imputers.csv\")\n",
    "data_50 = cudf.read_csv(\"new_data_50.csv\")"
   ]
  },
  {
   "cell_type": "code",
   "execution_count": 43,
   "id": "09fcaf04-9923-4c0f-9f7c-f7359e63d4a1",
   "metadata": {
    "tags": []
   },
   "outputs": [],
   "source": [
    "data_50 = data_50.drop(['Unnamed: 0'], axis = 1)"
   ]
  },
  {
   "cell_type": "code",
   "execution_count": 44,
   "id": "1d4f8b69-ce75-4ef5-a896-1be5a7cf8d88",
   "metadata": {
    "tags": []
   },
   "outputs": [
    {
     "data": {
      "text/html": [
       "<div>\n",
       "<style scoped>\n",
       "    .dataframe tbody tr th:only-of-type {\n",
       "        vertical-align: middle;\n",
       "    }\n",
       "\n",
       "    .dataframe tbody tr th {\n",
       "        vertical-align: top;\n",
       "    }\n",
       "\n",
       "    .dataframe thead th {\n",
       "        text-align: right;\n",
       "    }\n",
       "</style>\n",
       "<table border=\"1\" class=\"dataframe\">\n",
       "  <thead>\n",
       "    <tr style=\"text-align: right;\">\n",
       "      <th></th>\n",
       "      <th>PowerPerNode</th>\n",
       "      <th>NodeTemp</th>\n",
       "      <th>NodeName</th>\n",
       "      <th>index1</th>\n",
       "      <th>layer</th>\n",
       "      <th>TempReadings</th>\n",
       "    </tr>\n",
       "  </thead>\n",
       "  <tbody>\n",
       "    <tr>\n",
       "      <th>0</th>\n",
       "      <td>0.00219</td>\n",
       "      <td>47.69</td>\n",
       "      <td>V(NODE4_0_0)</td>\n",
       "      <td>0</td>\n",
       "      <td>4</td>\n",
       "      <td>45.85</td>\n",
       "    </tr>\n",
       "    <tr>\n",
       "      <th>1</th>\n",
       "      <td>0.00219</td>\n",
       "      <td>47.69</td>\n",
       "      <td>V(NODE4_0_1)</td>\n",
       "      <td>1</td>\n",
       "      <td>4</td>\n",
       "      <td>45.85</td>\n",
       "    </tr>\n",
       "    <tr>\n",
       "      <th>2</th>\n",
       "      <td>0.00219</td>\n",
       "      <td>47.69</td>\n",
       "      <td>V(NODE4_0_2)</td>\n",
       "      <td>2</td>\n",
       "      <td>4</td>\n",
       "      <td>45.85</td>\n",
       "    </tr>\n",
       "    <tr>\n",
       "      <th>3</th>\n",
       "      <td>0.00219</td>\n",
       "      <td>47.69</td>\n",
       "      <td>V(NODE4_0_3)</td>\n",
       "      <td>3</td>\n",
       "      <td>4</td>\n",
       "      <td>45.85</td>\n",
       "    </tr>\n",
       "    <tr>\n",
       "      <th>4</th>\n",
       "      <td>0.00219</td>\n",
       "      <td>47.70</td>\n",
       "      <td>V(NODE4_0_4)</td>\n",
       "      <td>4</td>\n",
       "      <td>4</td>\n",
       "      <td>45.85</td>\n",
       "    </tr>\n",
       "    <tr>\n",
       "      <th>...</th>\n",
       "      <td>...</td>\n",
       "      <td>...</td>\n",
       "      <td>...</td>\n",
       "      <td>...</td>\n",
       "      <td>...</td>\n",
       "      <td>...</td>\n",
       "    </tr>\n",
       "    <tr>\n",
       "      <th>7199995</th>\n",
       "      <td>0.00190</td>\n",
       "      <td>46.53</td>\n",
       "      <td>V(NODE4_99_95)</td>\n",
       "      <td>9995</td>\n",
       "      <td>1</td>\n",
       "      <td>46.63</td>\n",
       "    </tr>\n",
       "    <tr>\n",
       "      <th>7199996</th>\n",
       "      <td>0.00190</td>\n",
       "      <td>46.52</td>\n",
       "      <td>V(NODE4_99_96)</td>\n",
       "      <td>9996</td>\n",
       "      <td>1</td>\n",
       "      <td>46.63</td>\n",
       "    </tr>\n",
       "    <tr>\n",
       "      <th>7199997</th>\n",
       "      <td>0.00190</td>\n",
       "      <td>46.52</td>\n",
       "      <td>V(NODE4_99_97)</td>\n",
       "      <td>9997</td>\n",
       "      <td>1</td>\n",
       "      <td>46.63</td>\n",
       "    </tr>\n",
       "    <tr>\n",
       "      <th>7199998</th>\n",
       "      <td>0.00190</td>\n",
       "      <td>46.52</td>\n",
       "      <td>V(NODE4_99_98)</td>\n",
       "      <td>9998</td>\n",
       "      <td>1</td>\n",
       "      <td>46.63</td>\n",
       "    </tr>\n",
       "    <tr>\n",
       "      <th>7199999</th>\n",
       "      <td>0.00190</td>\n",
       "      <td>46.51</td>\n",
       "      <td>V(NODE4_99_99)</td>\n",
       "      <td>9999</td>\n",
       "      <td>1</td>\n",
       "      <td>46.63</td>\n",
       "    </tr>\n",
       "  </tbody>\n",
       "</table>\n",
       "<p>7200000 rows × 6 columns</p>\n",
       "</div>"
      ],
      "text/plain": [
       "         PowerPerNode  NodeTemp        NodeName  index1  layer  TempReadings\n",
       "0             0.00219     47.69    V(NODE4_0_0)       0      4         45.85\n",
       "1             0.00219     47.69    V(NODE4_0_1)       1      4         45.85\n",
       "2             0.00219     47.69    V(NODE4_0_2)       2      4         45.85\n",
       "3             0.00219     47.69    V(NODE4_0_3)       3      4         45.85\n",
       "4             0.00219     47.70    V(NODE4_0_4)       4      4         45.85\n",
       "...               ...       ...             ...     ...    ...           ...\n",
       "7199995       0.00190     46.53  V(NODE4_99_95)    9995      1         46.63\n",
       "7199996       0.00190     46.52  V(NODE4_99_96)    9996      1         46.63\n",
       "7199997       0.00190     46.52  V(NODE4_99_97)    9997      1         46.63\n",
       "7199998       0.00190     46.52  V(NODE4_99_98)    9998      1         46.63\n",
       "7199999       0.00190     46.51  V(NODE4_99_99)    9999      1         46.63\n",
       "\n",
       "[7200000 rows x 6 columns]"
      ]
     },
     "execution_count": 44,
     "metadata": {},
     "output_type": "execute_result"
    }
   ],
   "source": [
    "data_50"
   ]
  },
  {
   "cell_type": "code",
   "execution_count": 89,
   "id": "3403d9c4-774b-45e8-a8c6-9cab48ab1dd7",
   "metadata": {
    "tags": []
   },
   "outputs": [],
   "source": [
    "new_data_50 = getNewData(data_50, randNodes50)"
   ]
  },
  {
   "cell_type": "code",
   "execution_count": 90,
   "id": "64192b65-3135-4d1e-9225-f090ef934b9c",
   "metadata": {
    "tags": []
   },
   "outputs": [
    {
     "data": {
      "text/html": [
       "<div>\n",
       "<style scoped>\n",
       "    .dataframe tbody tr th:only-of-type {\n",
       "        vertical-align: middle;\n",
       "    }\n",
       "\n",
       "    .dataframe tbody tr th {\n",
       "        vertical-align: top;\n",
       "    }\n",
       "\n",
       "    .dataframe thead th {\n",
       "        text-align: right;\n",
       "    }\n",
       "</style>\n",
       "<table border=\"1\" class=\"dataframe\">\n",
       "  <thead>\n",
       "    <tr style=\"text-align: right;\">\n",
       "      <th></th>\n",
       "      <th>Unnamed: 0</th>\n",
       "      <th>PowerPerNode</th>\n",
       "      <th>NodeTemp</th>\n",
       "      <th>NodeName</th>\n",
       "      <th>index1</th>\n",
       "      <th>layer</th>\n",
       "      <th>TempReadings</th>\n",
       "    </tr>\n",
       "  </thead>\n",
       "  <tbody>\n",
       "    <tr>\n",
       "      <th>3166</th>\n",
       "      <td>3166</td>\n",
       "      <td>0.00219</td>\n",
       "      <td>53.55</td>\n",
       "      <td>V(NODE4_31_66)</td>\n",
       "      <td>3166</td>\n",
       "      <td>4</td>\n",
       "      <td>53.55</td>\n",
       "    </tr>\n",
       "  </tbody>\n",
       "</table>\n",
       "</div>"
      ],
      "text/plain": [
       "      Unnamed: 0  PowerPerNode  NodeTemp        NodeName  index1  layer  \\\n",
       "3166        3166       0.00219     53.55  V(NODE4_31_66)    3166      4   \n",
       "\n",
       "      TempReadings  \n",
       "3166         53.55  "
      ]
     },
     "execution_count": 90,
     "metadata": {},
     "output_type": "execute_result"
    }
   ],
   "source": []
  },
  {
   "cell_type": "code",
   "execution_count": 81,
   "id": "1eb675aa-74ee-4c10-a933-42ce3117083f",
   "metadata": {},
   "outputs": [],
   "source": [
    "regr_50, X_train, X_test, y_train, y_test = get_regression(data_50)"
   ]
  },
  {
   "cell_type": "code",
   "execution_count": 84,
   "id": "5a54702c-149a-42c8-9844-ec0397ef3d1a",
   "metadata": {
    "tags": []
   },
   "outputs": [
    {
     "data": {
      "text/html": [
       "<div>\n",
       "<style scoped>\n",
       "    .dataframe tbody tr th:only-of-type {\n",
       "        vertical-align: middle;\n",
       "    }\n",
       "\n",
       "    .dataframe tbody tr th {\n",
       "        vertical-align: top;\n",
       "    }\n",
       "\n",
       "    .dataframe thead th {\n",
       "        text-align: right;\n",
       "    }\n",
       "</style>\n",
       "<table border=\"1\" class=\"dataframe\">\n",
       "  <thead>\n",
       "    <tr style=\"text-align: right;\">\n",
       "      <th></th>\n",
       "      <th>Unnamed: 0</th>\n",
       "      <th>PowerPerNode</th>\n",
       "      <th>NodeTemp</th>\n",
       "      <th>NodeName</th>\n",
       "      <th>index1</th>\n",
       "      <th>layer</th>\n",
       "      <th>TempReadings</th>\n",
       "    </tr>\n",
       "  </thead>\n",
       "  <tbody>\n",
       "    <tr>\n",
       "      <th>0</th>\n",
       "      <td>0</td>\n",
       "      <td>0.00219</td>\n",
       "      <td>47.69</td>\n",
       "      <td>V(NODE4_0_0)</td>\n",
       "      <td>0</td>\n",
       "      <td>4</td>\n",
       "      <td>45.85</td>\n",
       "    </tr>\n",
       "    <tr>\n",
       "      <th>1</th>\n",
       "      <td>1</td>\n",
       "      <td>0.00219</td>\n",
       "      <td>47.69</td>\n",
       "      <td>V(NODE4_0_1)</td>\n",
       "      <td>1</td>\n",
       "      <td>4</td>\n",
       "      <td>45.85</td>\n",
       "    </tr>\n",
       "    <tr>\n",
       "      <th>2</th>\n",
       "      <td>2</td>\n",
       "      <td>0.00219</td>\n",
       "      <td>47.69</td>\n",
       "      <td>V(NODE4_0_2)</td>\n",
       "      <td>2</td>\n",
       "      <td>4</td>\n",
       "      <td>45.85</td>\n",
       "    </tr>\n",
       "    <tr>\n",
       "      <th>3</th>\n",
       "      <td>3</td>\n",
       "      <td>0.00219</td>\n",
       "      <td>47.69</td>\n",
       "      <td>V(NODE4_0_3)</td>\n",
       "      <td>3</td>\n",
       "      <td>4</td>\n",
       "      <td>45.85</td>\n",
       "    </tr>\n",
       "    <tr>\n",
       "      <th>4</th>\n",
       "      <td>4</td>\n",
       "      <td>0.00219</td>\n",
       "      <td>47.70</td>\n",
       "      <td>V(NODE4_0_4)</td>\n",
       "      <td>4</td>\n",
       "      <td>4</td>\n",
       "      <td>45.85</td>\n",
       "    </tr>\n",
       "    <tr>\n",
       "      <th>...</th>\n",
       "      <td>...</td>\n",
       "      <td>...</td>\n",
       "      <td>...</td>\n",
       "      <td>...</td>\n",
       "      <td>...</td>\n",
       "      <td>...</td>\n",
       "      <td>...</td>\n",
       "    </tr>\n",
       "    <tr>\n",
       "      <th>7199995</th>\n",
       "      <td>9995</td>\n",
       "      <td>0.00190</td>\n",
       "      <td>46.97</td>\n",
       "      <td>V(NODE1_99_95)</td>\n",
       "      <td>9995</td>\n",
       "      <td>1</td>\n",
       "      <td>47.07</td>\n",
       "    </tr>\n",
       "    <tr>\n",
       "      <th>7199996</th>\n",
       "      <td>9996</td>\n",
       "      <td>0.00190</td>\n",
       "      <td>46.96</td>\n",
       "      <td>V(NODE1_99_96)</td>\n",
       "      <td>9996</td>\n",
       "      <td>1</td>\n",
       "      <td>47.07</td>\n",
       "    </tr>\n",
       "    <tr>\n",
       "      <th>7199997</th>\n",
       "      <td>9997</td>\n",
       "      <td>0.00190</td>\n",
       "      <td>46.96</td>\n",
       "      <td>V(NODE1_99_97)</td>\n",
       "      <td>9997</td>\n",
       "      <td>1</td>\n",
       "      <td>47.07</td>\n",
       "    </tr>\n",
       "    <tr>\n",
       "      <th>7199998</th>\n",
       "      <td>9998</td>\n",
       "      <td>0.00190</td>\n",
       "      <td>46.96</td>\n",
       "      <td>V(NODE1_99_98)</td>\n",
       "      <td>9998</td>\n",
       "      <td>1</td>\n",
       "      <td>47.07</td>\n",
       "    </tr>\n",
       "    <tr>\n",
       "      <th>7199999</th>\n",
       "      <td>9999</td>\n",
       "      <td>0.00190</td>\n",
       "      <td>46.96</td>\n",
       "      <td>V(NODE1_99_99)</td>\n",
       "      <td>9999</td>\n",
       "      <td>1</td>\n",
       "      <td>47.07</td>\n",
       "    </tr>\n",
       "  </tbody>\n",
       "</table>\n",
       "<p>7200000 rows × 7 columns</p>\n",
       "</div>"
      ],
      "text/plain": [
       "         Unnamed: 0  PowerPerNode  NodeTemp        NodeName  index1  layer  \\\n",
       "0                 0       0.00219     47.69    V(NODE4_0_0)       0      4   \n",
       "1                 1       0.00219     47.69    V(NODE4_0_1)       1      4   \n",
       "2                 2       0.00219     47.69    V(NODE4_0_2)       2      4   \n",
       "3                 3       0.00219     47.69    V(NODE4_0_3)       3      4   \n",
       "4                 4       0.00219     47.70    V(NODE4_0_4)       4      4   \n",
       "...             ...           ...       ...             ...     ...    ...   \n",
       "7199995        9995       0.00190     46.97  V(NODE1_99_95)    9995      1   \n",
       "7199996        9996       0.00190     46.96  V(NODE1_99_96)    9996      1   \n",
       "7199997        9997       0.00190     46.96  V(NODE1_99_97)    9997      1   \n",
       "7199998        9998       0.00190     46.96  V(NODE1_99_98)    9998      1   \n",
       "7199999        9999       0.00190     46.96  V(NODE1_99_99)    9999      1   \n",
       "\n",
       "         TempReadings  \n",
       "0               45.85  \n",
       "1               45.85  \n",
       "2               45.85  \n",
       "3               45.85  \n",
       "4               45.85  \n",
       "...               ...  \n",
       "7199995         47.07  \n",
       "7199996         47.07  \n",
       "7199997         47.07  \n",
       "7199998         47.07  \n",
       "7199999         47.07  \n",
       "\n",
       "[7200000 rows x 7 columns]"
      ]
     },
     "execution_count": 84,
     "metadata": {},
     "output_type": "execute_result"
    }
   ],
   "source": [
    "data_50"
   ]
  },
  {
   "cell_type": "code",
   "execution_count": 83,
   "id": "e3f9703f-963e-4e04-83cd-ae0dfb6c17d7",
   "metadata": {
    "tags": []
   },
   "outputs": [
    {
     "name": "stdout",
     "output_type": "stream",
     "text": [
      "(0.8123850629956836, array([0.81802911, 0.81923856, 0.81832336, 0.82004431, 0.81794895]))\n"
     ]
    }
   ],
   "source": [
    "print(get_score(regr_50, X_train, X_test, y_train, y_test))"
   ]
  },
  {
   "cell_type": "code",
   "execution_count": 91,
   "id": "9f190aa7-2d7a-4a06-80c2-67456c86524a",
   "metadata": {
    "tags": []
   },
   "outputs": [],
   "source": [
    "new_regr_50, X_train, X_test, y_train, y_test = get_regression(new_data_50)"
   ]
  },
  {
   "cell_type": "code",
   "execution_count": 92,
   "id": "727631e7-1408-4608-83dc-e1478a2cd5bf",
   "metadata": {
    "tags": []
   },
   "outputs": [
    {
     "name": "stdout",
     "output_type": "stream",
     "text": [
      "(0.796960358112654, array([0.80544002, 0.80546587, 0.80549208, 0.80389354, 0.80477741]))\n"
     ]
    }
   ],
   "source": [
    "print(get_score(new_regr_50, X_train, X_test, y_train, y_test))"
   ]
  },
  {
   "cell_type": "code",
   "execution_count": 93,
   "id": "f6257b77-e01b-4b54-b218-5eb34e490885",
   "metadata": {
    "tags": []
   },
   "outputs": [],
   "source": [
    "new_data_50_inputs = impute_data(new_data_50)"
   ]
  },
  {
   "cell_type": "code",
   "execution_count": 102,
   "id": "6df386c0-53b3-42ec-a57e-061d35015363",
   "metadata": {},
   "outputs": [],
   "source": [
    "X_new = data_50[['PowerPerNode','index1','TempReadings','layer' ]].iloc[3600000:].to_pandas()"
   ]
  },
  {
   "cell_type": "code",
   "execution_count": 103,
   "id": "b9d1e652-b99c-46be-9411-7e5824d6e487",
   "metadata": {
    "tags": []
   },
   "outputs": [
    {
     "data": {
      "text/plain": [
       "0.8132930503337379"
      ]
     },
     "execution_count": 103,
     "metadata": {},
     "output_type": "execute_result"
    }
   ],
   "source": [
    "r2_score(regr_50.predict(X_new), data_50['NodeTemp'].iloc[3600000:].to_pandas())"
   ]
  },
  {
   "cell_type": "code",
   "execution_count": 63,
   "id": "f7c1d794-a3c5-46b4-be41-a943a58ddd8d",
   "metadata": {},
   "outputs": [],
   "source": [
    "prediction = regr_50.predict(data_50[['PowerPerNode', 'index1', 'TempReadings', 'layer']].to_pandas())\n",
    "prediction = prediction.reshape(-1,1)\n",
    "p = cudf.DataFrame(prediction)\n",
    "first_layer = p.iloc[7190000:7200000].transpose()\n",
    "first_layer.columns = data_10[\"NodeName\"].iloc[:10000].to_pandas().to_list()\n",
    "first_layer.to_csv(\"50readings_predicted_last_layer1.cir.csv\")"
   ]
  }
 ],
 "metadata": {
  "kernelspec": {
   "display_name": "Python 3 (ipykernel)",
   "language": "python",
   "name": "python3"
  },
  "language_info": {
   "codemirror_mode": {
    "name": "ipython",
    "version": 3
   },
   "file_extension": ".py",
   "mimetype": "text/x-python",
   "name": "python",
   "nbconvert_exporter": "python",
   "pygments_lexer": "ipython3",
   "version": "3.10.12"
  }
 },
 "nbformat": 4,
 "nbformat_minor": 5
}
