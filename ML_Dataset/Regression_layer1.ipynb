{
 "cells": [
  {
   "cell_type": "code",
   "execution_count": 1,
   "id": "416b8639-2be7-40ca-a7c8-55baba03ae1b",
   "metadata": {},
   "outputs": [
    {
     "name": "stderr",
     "output_type": "stream",
     "text": [
      "/usr4/spclpgm/zhoua25/.local/lib/python3.10/site-packages/cupy/_environment.py:487: UserWarning: \n",
      "--------------------------------------------------------------------------------\n",
      "\n",
      "  CuPy may not function correctly because multiple CuPy packages are installed\n",
      "  in your environment:\n",
      "\n",
      "    cupy-cuda11x, cupy-cuda12x\n",
      "\n",
      "  Follow these steps to resolve this issue:\n",
      "\n",
      "    1. For all packages listed above, run the following command to remove all\n",
      "       existing CuPy installations:\n",
      "\n",
      "         $ pip uninstall <package_name>\n",
      "\n",
      "      If you previously installed CuPy via conda, also run the following:\n",
      "\n",
      "         $ conda uninstall cupy\n",
      "\n",
      "    2. Install the appropriate CuPy package.\n",
      "       Refer to the Installation Guide for detailed instructions.\n",
      "\n",
      "         https://docs.cupy.dev/en/stable/install.html\n",
      "\n",
      "--------------------------------------------------------------------------------\n",
      "\n",
      "  warnings.warn(f'''\n"
     ]
    }
   ],
   "source": [
    "import numpy as np\n",
    "import pandas as pd\n",
    "pd.options.mode.chained_assignment = None  # default='warn'\n",
    "import re\n",
    "import os\n",
    "from pathlib import Path\n",
    "import shutil\n",
    "import sys\n",
    "import argparse\n",
    "import csv\n",
    "\n",
    "import seaborn as sns \n",
    "import matplotlib.pyplot as plt \n",
    "from sklearn import preprocessing, svm \n",
    "from sklearn.model_selection import train_test_split as tts\n",
    "# from sklearn import linear_model\n",
    "import random\n",
    "from sklearn.model_selection import cross_val_score\n",
    "from sklearn.experimental import enable_iterative_imputer\n",
    "from sklearn.impute import IterativeImputer\n",
    "from sklearn.tree import DecisionTreeRegressor\n",
    "import cudf\n",
    "from sklearn.metrics import r2_score"
   ]
  },
  {
   "cell_type": "code",
   "execution_count": 2,
   "id": "2c7c4b9f-5870-4334-a48c-997e4f023a4b",
   "metadata": {},
   "outputs": [],
   "source": [
    "kelvin_offset = 273.15\n",
    "\n",
    "def getDimensions(file, layer):\n",
    "    columns = pd.read_csv(file, nrows=1)\n",
    "    nrows = 0\n",
    "    ncols = 0\n",
    "    while f'V(NODE{layer}_{nrows}_0)' in columns:\n",
    "        nrows += 1\n",
    "    while f'V(NODE{layer}_0_{ncols})' in columns:\n",
    "        ncols += 1\n",
    "    return nrows, ncols\n",
    "\n",
    "\n",
    "def readFormatInput(file, n_rows, n_cols, layer):\n",
    "    column = [f'V(NODE{layer}_{row}_{col})' for row in range(n_rows) for col in range(n_cols)]\n",
    "    df_l = pd.read_csv(file, usecols=column)\n",
    "    return df_l\n",
    "\n",
    "def getTemp(file):\n",
    "    grid_rows, grid_cols = getDimensions(file, 1)\n",
    "    df_l = readFormatInput(file, grid_rows, grid_cols, 1)\n",
    "    df_l -= kelvin_offset\n",
    "    return df_l"
   ]
  },
  {
   "cell_type": "code",
   "execution_count": 3,
   "id": "6f19e38b-94f6-4b35-bc91-5428a8106e0c",
   "metadata": {},
   "outputs": [],
   "source": [
    "os.chdir('outputs')\n",
    "outputs = os.listdir()\n",
    "temp_files_paths = []\n",
    "\n",
    "for file in outputs:\n",
    "    path = os.getcwd()\n",
    "    temp_files_paths.append(f\"{path}/{file}\")\n",
    "os.chdir('../')"
   ]
  },
  {
   "cell_type": "code",
   "execution_count": 4,
   "id": "57ca98e1-0440-4d5c-a2d8-56fadd4e5ba6",
   "metadata": {},
   "outputs": [],
   "source": [
    "ptrace_file_path =  \"/usr4/spclpgm/zhoua25/PACT/ML_Dataset/ptrace_files/tier1_ptrace.csv\"\n",
    "ptrace_file =  pd.read_csv(ptrace_file_path, header = 0)\n",
    "power = ptrace_file['Power'].sum()"
   ]
  },
  {
   "cell_type": "code",
   "execution_count": 5,
   "id": "daf09190-f04d-49de-9121-a8ae97f6e143",
   "metadata": {
    "tags": []
   },
   "outputs": [],
   "source": [
    "df = pd.DataFrame()\n",
    "df['Powerusage'] = [power]* len(temp_files_paths)\n",
    "df['Temperature_files'] = temp_files_paths"
   ]
  },
  {
   "cell_type": "markdown",
   "id": "fc0d8aab-b076-46a7-9d75-984100cf64f2",
   "metadata": {},
   "source": [
    "\"\"\"\n",
    "The order of the power files will likely not be the same as in the other regression, this can be fixed later if the two regressions are combined\n",
    "\n",
    "\n",
    "\n",
    "\"\"\""
   ]
  },
  {
   "cell_type": "code",
   "execution_count": 6,
   "id": "4d6f85f8-acb1-410a-b254-2b1b76499b0d",
   "metadata": {
    "tags": []
   },
   "outputs": [],
   "source": [
    "def powerPerNode(powerusage, nodes):\n",
    "    nodes *= nodes\n",
    "    pPN = [powerusage/nodes]*nodes\n",
    "    return pd.DataFrame(pPN, columns = ['PowerPerNode'])"
   ]
  },
  {
   "cell_type": "code",
   "execution_count": 7,
   "id": "ce9de17a-0f92-452f-98f1-11d65f61ca16",
   "metadata": {
    "tags": []
   },
   "outputs": [
    {
     "data": {
      "text/plain": [
       "array([19,\n",
       "       '/usr4/spclpgm/zhoua25/PACT/ML_Dataset/outputs/output121.cir.csv'],\n",
       "      dtype=object)"
      ]
     },
     "execution_count": 7,
     "metadata": {},
     "output_type": "execute_result"
    }
   ],
   "source": [
    "df1 = df.to_numpy()\n",
    "df1[0]"
   ]
  },
  {
   "cell_type": "code",
   "execution_count": 7,
   "id": "47b543b0-21c5-402b-b57e-d2b376ab9b4d",
   "metadata": {
    "tags": []
   },
   "outputs": [],
   "source": [
    "def getData(num, df):\n",
    "    df1 = df.to_numpy()\n",
    "    test = powerPerNode(df1[num][0], 100)\n",
    "    test1= getTemp(df1[num][1])\n",
    "    cols = test1.columns\n",
    "    # test1.columns = [None] * len(test1.columns)\n",
    "    test1 = test1.transpose().reset_index()\n",
    "    test['NodeTemp'] = test1[0]\n",
    "    test['NodeName'] = cols\n",
    "    test['index1'] = test.index\n",
    "    return test"
   ]
  },
  {
   "cell_type": "code",
   "execution_count": 8,
   "id": "a16e2e4e-cca3-4a36-9fb0-ba81dbf0d065",
   "metadata": {
    "tags": []
   },
   "outputs": [],
   "source": [
    "# getData(1, df)"
   ]
  },
  {
   "cell_type": "code",
   "execution_count": 8,
   "id": "70fa5305-ffab-4838-be21-c1dc8e4dbda0",
   "metadata": {
    "tags": []
   },
   "outputs": [],
   "source": [
    "def get_random(num):\n",
    "    list = []\n",
    "    for i in range(num):\n",
    "        list.append(random.randint(0,10000))\n",
    "    return list"
   ]
  },
  {
   "cell_type": "code",
   "execution_count": 10,
   "id": "fb32152b-adc5-41e9-a7ad-9ff2f2052254",
   "metadata": {
    "tags": []
   },
   "outputs": [],
   "source": [
    "def generate_data(randNodes, df): \n",
    "    x = pd.DataFrame()\n",
    "    for i in range(len(df)):\n",
    "        rand = getData(i, df)\n",
    "        rand['TempReadings']= np.nan\n",
    "        for num in randNodes:\n",
    "            rand['TempReadings'][num] = rand.iloc[num,1]\n",
    "        min = rand['TempReadings'].min()\n",
    "        rand['TempReadings'] = rand['TempReadings'].fillna(min)\n",
    "        data = [x,rand]\n",
    "        x = pd.concat(data)\n",
    "    return x"
   ]
  },
  {
   "cell_type": "code",
   "execution_count": 41,
   "id": "25ed16b6-07eb-4d19-87b3-7308641089c9",
   "metadata": {
    "tags": []
   },
   "outputs": [],
   "source": [
    "# def impute_data(x):\n",
    "#     # if x.shape[1] != 3:\n",
    "#     #     return x\n",
    "#     temp = x\n",
    "#     imputer = IterativeImputer(random_state = 0)\n",
    "#     imputed = imputer.fit_transform(temp[['TempReadings','index1','PowerPerNode']])\n",
    "#     df_imputed = pd.DataFrame(imputed, columns = ['TempReadings','index1','PowerPerNode'])\n",
    "#     return df_imputed"
   ]
  },
  {
   "cell_type": "code",
   "execution_count": 10,
   "id": "f8ba6d80-72d7-47d0-8970-4e16f0065d7e",
   "metadata": {
    "tags": []
   },
   "outputs": [],
   "source": [
    "def get_regression(data):\n",
    "    # df_imputed = impute_data(data)\n",
    "    # if df_imputed.shape[1] != 3:\n",
    "    #     X = df_imputed[['PowerPerNode', 'index1']]\n",
    "    # else:\n",
    "    X = df_imputed[['PowerPerNode', 'index1', 'TempReadings']]\n",
    "    y = data['NodeTemp']\n",
    "    X_train, X_test, y_train, y_test = tts(X, y, test_size = 0.25)\n",
    "    regr = DecisionTreeRegressor()\n",
    "    regr.fit(X_train, y_train)\n",
    "    return regr, X_train, X_test, y_train, y_test\n",
    "    "
   ]
  },
  {
   "cell_type": "code",
   "execution_count": 11,
   "id": "8bb13f8e-3882-4d3e-b5a7-5d98a8e0c42c",
   "metadata": {
    "tags": []
   },
   "outputs": [],
   "source": [
    "def get_score(regr, X_train, X_test, y_train, y_test):\n",
    "    scores = cross_val_score(regr, X_train, y_train, scoring='r2', cv=5)\n",
    "    return regr.score(X_test, y_test), scores\n",
    "    "
   ]
  },
  {
   "cell_type": "code",
   "execution_count": 15,
   "id": "cad6b640-a613-4a93-ae4b-4ddb8f44ed51",
   "metadata": {
    "tags": []
   },
   "outputs": [],
   "source": [
    "data = generate_data([], df)"
   ]
  },
  {
   "cell_type": "code",
   "execution_count": 14,
   "id": "1fec14e5-5216-410c-883b-39716eef26fc",
   "metadata": {
    "tags": []
   },
   "outputs": [],
   "source": [
    "data = pd.read_csv(\"data.csv\")"
   ]
  },
  {
   "cell_type": "code",
   "execution_count": 15,
   "id": "1468932d-4bd7-4e89-9df6-8f277bc44f28",
   "metadata": {
    "tags": []
   },
   "outputs": [],
   "source": [
    "regr, X_train, X_test, y_train, y_test = get_regression(data)"
   ]
  },
  {
   "cell_type": "code",
   "execution_count": 16,
   "id": "4b2415ed-32d4-497e-aa94-7e4c446c250f",
   "metadata": {
    "tags": []
   },
   "outputs": [
    {
     "name": "stdout",
     "output_type": "stream",
     "text": [
      "(0.345040465224977, array([0.34461719, 0.34638406, 0.3440031 , 0.34413182, 0.34457075]))\n"
     ]
    }
   ],
   "source": [
    "print(get_score(regr, X_train, X_test, y_train, y_test))"
   ]
  },
  {
   "cell_type": "code",
   "execution_count": 19,
   "id": "f79cdad8-938f-4e57-af45-85216252a07e",
   "metadata": {
    "tags": []
   },
   "outputs": [
    {
     "name": "stdout",
     "output_type": "stream",
     "text": [
      "[6682, 8551, 2222, 901, 1499, 8364, 1863, 1916, 2592, 4357]\n"
     ]
    }
   ],
   "source": [
    "print(get_random(10))"
   ]
  },
  {
   "cell_type": "code",
   "execution_count": 11,
   "id": "e5b0b552-5ebb-4367-8b37-470bd858702f",
   "metadata": {
    "tags": []
   },
   "outputs": [],
   "source": [
    "randNodes = [6682, 8551, 2222, 901, 1499, 8364, 1863, 1916, 2592, 4357]"
   ]
  },
  {
   "cell_type": "code",
   "execution_count": null,
   "id": "2b951efa-5c26-4fad-b4ba-06a952d25564",
   "metadata": {},
   "outputs": [],
   "source": [
    "data_10 = generate_data(rand_Nodes, df)"
   ]
  },
  {
   "cell_type": "code",
   "execution_count": 29,
   "id": "e51b7a47-f467-474f-baf9-0595adfebacf",
   "metadata": {
    "tags": []
   },
   "outputs": [],
   "source": []
  },
  {
   "cell_type": "code",
   "execution_count": 27,
   "id": "98854050-7c18-48a0-beb0-22622550fb4b",
   "metadata": {
    "tags": []
   },
   "outputs": [],
   "source": []
  },
  {
   "cell_type": "code",
   "execution_count": 31,
   "id": "b61e1c2f-4c22-42b4-84fe-c275dfdc2ca7",
   "metadata": {
    "tags": []
   },
   "outputs": [
    {
     "data": {
      "text/plain": [
       "0        NaN\n",
       "1        NaN\n",
       "2        NaN\n",
       "3        NaN\n",
       "4        NaN\n",
       "          ..\n",
       "359995   NaN\n",
       "359996   NaN\n",
       "359997   NaN\n",
       "359998   NaN\n",
       "359999   NaN\n",
       "Name: TempReadings, Length: 360000, dtype: float64"
      ]
     },
     "execution_count": 31,
     "metadata": {},
     "output_type": "execute_result"
    }
   ],
   "source": []
  },
  {
   "cell_type": "code",
   "execution_count": 42,
   "id": "068c0f67-a55b-489b-857f-567a5c19ea23",
   "metadata": {
    "tags": []
   },
   "outputs": [],
   "source": [
    "data_imputed = impute_data(new_data)\n"
   ]
  },
  {
   "cell_type": "code",
   "execution_count": 43,
   "id": "a4bbf040-9c1f-4042-9090-a5a2c5d75126",
   "metadata": {
    "tags": []
   },
   "outputs": [
    {
     "data": {
      "text/html": [
       "<div>\n",
       "<style scoped>\n",
       "    .dataframe tbody tr th:only-of-type {\n",
       "        vertical-align: middle;\n",
       "    }\n",
       "\n",
       "    .dataframe tbody tr th {\n",
       "        vertical-align: top;\n",
       "    }\n",
       "\n",
       "    .dataframe thead th {\n",
       "        text-align: right;\n",
       "    }\n",
       "</style>\n",
       "<table border=\"1\" class=\"dataframe\">\n",
       "  <thead>\n",
       "    <tr style=\"text-align: right;\">\n",
       "      <th></th>\n",
       "      <th>TempReadings</th>\n",
       "      <th>index1</th>\n",
       "      <th>PowerPerNode</th>\n",
       "    </tr>\n",
       "  </thead>\n",
       "  <tbody>\n",
       "    <tr>\n",
       "      <th>0</th>\n",
       "      <td>49.475362</td>\n",
       "      <td>0.0</td>\n",
       "      <td>0.00219</td>\n",
       "    </tr>\n",
       "    <tr>\n",
       "      <th>1</th>\n",
       "      <td>49.475269</td>\n",
       "      <td>1.0</td>\n",
       "      <td>0.00219</td>\n",
       "    </tr>\n",
       "    <tr>\n",
       "      <th>2</th>\n",
       "      <td>49.475177</td>\n",
       "      <td>2.0</td>\n",
       "      <td>0.00219</td>\n",
       "    </tr>\n",
       "    <tr>\n",
       "      <th>3</th>\n",
       "      <td>49.475084</td>\n",
       "      <td>3.0</td>\n",
       "      <td>0.00219</td>\n",
       "    </tr>\n",
       "    <tr>\n",
       "      <th>4</th>\n",
       "      <td>49.474992</td>\n",
       "      <td>4.0</td>\n",
       "      <td>0.00219</td>\n",
       "    </tr>\n",
       "    <tr>\n",
       "      <th>...</th>\n",
       "      <td>...</td>\n",
       "      <td>...</td>\n",
       "      <td>...</td>\n",
       "    </tr>\n",
       "    <tr>\n",
       "      <th>359995</th>\n",
       "      <td>48.550657</td>\n",
       "      <td>9995.0</td>\n",
       "      <td>0.00409</td>\n",
       "    </tr>\n",
       "    <tr>\n",
       "      <th>359996</th>\n",
       "      <td>48.550565</td>\n",
       "      <td>9996.0</td>\n",
       "      <td>0.00409</td>\n",
       "    </tr>\n",
       "    <tr>\n",
       "      <th>359997</th>\n",
       "      <td>48.550472</td>\n",
       "      <td>9997.0</td>\n",
       "      <td>0.00409</td>\n",
       "    </tr>\n",
       "    <tr>\n",
       "      <th>359998</th>\n",
       "      <td>48.550380</td>\n",
       "      <td>9998.0</td>\n",
       "      <td>0.00409</td>\n",
       "    </tr>\n",
       "    <tr>\n",
       "      <th>359999</th>\n",
       "      <td>48.550287</td>\n",
       "      <td>9999.0</td>\n",
       "      <td>0.00409</td>\n",
       "    </tr>\n",
       "  </tbody>\n",
       "</table>\n",
       "<p>360000 rows × 3 columns</p>\n",
       "</div>"
      ],
      "text/plain": [
       "        TempReadings  index1  PowerPerNode\n",
       "0          49.475362     0.0       0.00219\n",
       "1          49.475269     1.0       0.00219\n",
       "2          49.475177     2.0       0.00219\n",
       "3          49.475084     3.0       0.00219\n",
       "4          49.474992     4.0       0.00219\n",
       "...              ...     ...           ...\n",
       "359995     48.550657  9995.0       0.00409\n",
       "359996     48.550565  9996.0       0.00409\n",
       "359997     48.550472  9997.0       0.00409\n",
       "359998     48.550380  9998.0       0.00409\n",
       "359999     48.550287  9999.0       0.00409\n",
       "\n",
       "[360000 rows x 3 columns]"
      ]
     },
     "execution_count": 43,
     "metadata": {},
     "output_type": "execute_result"
    }
   ],
   "source": [
    "data_imputed"
   ]
  },
  {
   "cell_type": "code",
   "execution_count": 44,
   "id": "0c09946d-19d6-4860-b587-098b67384d8c",
   "metadata": {
    "tags": []
   },
   "outputs": [],
   "source": [
    "regr_10, X_train, X_test, y_train, y_test = get_regression(new_data)"
   ]
  },
  {
   "cell_type": "code",
   "execution_count": 45,
   "id": "3c36b931-290f-47dc-9568-2838cdd2843c",
   "metadata": {
    "tags": []
   },
   "outputs": [
    {
     "name": "stdout",
     "output_type": "stream",
     "text": [
      "(0.9738819167957765, array([0.96539709, 0.96127825, 0.96483882, 0.95930909, 0.96432744]))\n"
     ]
    }
   ],
   "source": [
    "print(get_score(regr_10, X_train, X_test, y_train, y_test))"
   ]
  },
  {
   "cell_type": "code",
   "execution_count": 47,
   "id": "dbf87617-e887-4401-878b-d8dd540919b4",
   "metadata": {
    "tags": []
   },
   "outputs": [],
   "source": [
    "d = data_10[['PowerPerNode','index1','TempReadings']].iloc[7190000:7200000]\n",
    "d_new = impute_data(d)"
   ]
  },
  {
   "cell_type": "code",
   "execution_count": 50,
   "id": "a85a9b7f-37c4-4e6f-a4ec-885269a55af2",
   "metadata": {
    "tags": []
   },
   "outputs": [
    {
     "data": {
      "text/html": [
       "<div>\n",
       "<style scoped>\n",
       "    .dataframe tbody tr th:only-of-type {\n",
       "        vertical-align: middle;\n",
       "    }\n",
       "\n",
       "    .dataframe tbody tr th {\n",
       "        vertical-align: top;\n",
       "    }\n",
       "\n",
       "    .dataframe thead th {\n",
       "        text-align: right;\n",
       "    }\n",
       "</style>\n",
       "<table border=\"1\" class=\"dataframe\">\n",
       "  <thead>\n",
       "    <tr style=\"text-align: right;\">\n",
       "      <th></th>\n",
       "      <th>PowerPerNode</th>\n",
       "      <th>index1</th>\n",
       "      <th>TempReadings</th>\n",
       "    </tr>\n",
       "  </thead>\n",
       "  <tbody>\n",
       "    <tr>\n",
       "      <th>0</th>\n",
       "      <td>0.0019</td>\n",
       "      <td>0.0</td>\n",
       "      <td>48.231463</td>\n",
       "    </tr>\n",
       "    <tr>\n",
       "      <th>1</th>\n",
       "      <td>0.0019</td>\n",
       "      <td>1.0</td>\n",
       "      <td>48.231297</td>\n",
       "    </tr>\n",
       "    <tr>\n",
       "      <th>2</th>\n",
       "      <td>0.0019</td>\n",
       "      <td>2.0</td>\n",
       "      <td>48.231131</td>\n",
       "    </tr>\n",
       "    <tr>\n",
       "      <th>3</th>\n",
       "      <td>0.0019</td>\n",
       "      <td>3.0</td>\n",
       "      <td>48.230966</td>\n",
       "    </tr>\n",
       "    <tr>\n",
       "      <th>4</th>\n",
       "      <td>0.0019</td>\n",
       "      <td>4.0</td>\n",
       "      <td>48.230800</td>\n",
       "    </tr>\n",
       "    <tr>\n",
       "      <th>...</th>\n",
       "      <td>...</td>\n",
       "      <td>...</td>\n",
       "      <td>...</td>\n",
       "    </tr>\n",
       "    <tr>\n",
       "      <th>9995</th>\n",
       "      <td>0.0019</td>\n",
       "      <td>9995.0</td>\n",
       "      <td>46.573615</td>\n",
       "    </tr>\n",
       "    <tr>\n",
       "      <th>9996</th>\n",
       "      <td>0.0019</td>\n",
       "      <td>9996.0</td>\n",
       "      <td>46.573449</td>\n",
       "    </tr>\n",
       "    <tr>\n",
       "      <th>9997</th>\n",
       "      <td>0.0019</td>\n",
       "      <td>9997.0</td>\n",
       "      <td>46.573284</td>\n",
       "    </tr>\n",
       "    <tr>\n",
       "      <th>9998</th>\n",
       "      <td>0.0019</td>\n",
       "      <td>9998.0</td>\n",
       "      <td>46.573118</td>\n",
       "    </tr>\n",
       "    <tr>\n",
       "      <th>9999</th>\n",
       "      <td>0.0019</td>\n",
       "      <td>9999.0</td>\n",
       "      <td>46.572952</td>\n",
       "    </tr>\n",
       "  </tbody>\n",
       "</table>\n",
       "<p>10000 rows × 3 columns</p>\n",
       "</div>"
      ],
      "text/plain": [
       "      PowerPerNode  index1  TempReadings\n",
       "0           0.0019     0.0     48.231463\n",
       "1           0.0019     1.0     48.231297\n",
       "2           0.0019     2.0     48.231131\n",
       "3           0.0019     3.0     48.230966\n",
       "4           0.0019     4.0     48.230800\n",
       "...            ...     ...           ...\n",
       "9995        0.0019  9995.0     46.573615\n",
       "9996        0.0019  9996.0     46.573449\n",
       "9997        0.0019  9997.0     46.573284\n",
       "9998        0.0019  9998.0     46.573118\n",
       "9999        0.0019  9999.0     46.572952\n",
       "\n",
       "[10000 rows x 3 columns]"
      ]
     },
     "execution_count": 50,
     "metadata": {},
     "output_type": "execute_result"
    }
   ],
   "source": [
    "d_new[['PowerPerNode', 'index1', 'TempReadings']]"
   ]
  },
  {
   "cell_type": "code",
   "execution_count": 51,
   "id": "a48052b9-44f6-4009-8382-5f8b771af83f",
   "metadata": {},
   "outputs": [
    {
     "data": {
      "text/plain": [
       "-0.9729400212677375"
      ]
     },
     "execution_count": 51,
     "metadata": {},
     "output_type": "execute_result"
    }
   ],
   "source": [
    "r2_score(regr_10.predict(d_new[['PowerPerNode', 'index1', 'TempReadings']]), data_10['NodeTemp'].iloc[7190000:7200000])"
   ]
  },
  {
   "cell_type": "code",
   "execution_count": null,
   "id": "67ea1d8b-f511-4434-bb35-d8263b3d20c8",
   "metadata": {},
   "outputs": [],
   "source": []
  }
 ],
 "metadata": {
  "kernelspec": {
   "display_name": "Python 3 (ipykernel)",
   "language": "python",
   "name": "python3"
  },
  "language_info": {
   "codemirror_mode": {
    "name": "ipython",
    "version": 3
   },
   "file_extension": ".py",
   "mimetype": "text/x-python",
   "name": "python",
   "nbconvert_exporter": "python",
   "pygments_lexer": "ipython3",
   "version": "3.10.12"
  }
 },
 "nbformat": 4,
 "nbformat_minor": 5
}
