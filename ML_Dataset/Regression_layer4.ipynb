{
 "cells": [
  {
   "cell_type": "code",
   "execution_count": 3,
   "id": "a5fc3f23",
   "metadata": {
    "tags": []
   },
   "outputs": [
    {
     "name": "stderr",
     "output_type": "stream",
     "text": [
      "/usr4/spclpgm/zhoua25/.local/lib/python3.10/site-packages/cupy/_environment.py:487: UserWarning: \n",
      "--------------------------------------------------------------------------------\n",
      "\n",
      "  CuPy may not function correctly because multiple CuPy packages are installed\n",
      "  in your environment:\n",
      "\n",
      "    cupy-cuda11x, cupy-cuda12x\n",
      "\n",
      "  Follow these steps to resolve this issue:\n",
      "\n",
      "    1. For all packages listed above, run the following command to remove all\n",
      "       existing CuPy installations:\n",
      "\n",
      "         $ pip uninstall <package_name>\n",
      "\n",
      "      If you previously installed CuPy via conda, also run the following:\n",
      "\n",
      "         $ conda uninstall cupy\n",
      "\n",
      "    2. Install the appropriate CuPy package.\n",
      "       Refer to the Installation Guide for detailed instructions.\n",
      "\n",
      "         https://docs.cupy.dev/en/stable/install.html\n",
      "\n",
      "--------------------------------------------------------------------------------\n",
      "\n",
      "  warnings.warn(f'''\n"
     ]
    }
   ],
   "source": [
    "import numpy as np\n",
    "import pandas as pd\n",
    "pd.options.mode.chained_assignment = None  # default='warn'\n",
    "import re\n",
    "import os\n",
    "from pathlib import Path\n",
    "import shutil\n",
    "import sys\n",
    "import argparse\n",
    "import csv\n",
    "import random\n",
    "\n",
    "import seaborn as sns \n",
    "import matplotlib.pyplot as plt \n",
    "from sklearn import preprocessing, svm \n",
    "from sklearn.model_selection import train_test_split as tts\n",
    "from sklearn.linear_model import LinearRegression\n",
    "from sklearn.preprocessing import PolynomialFeatures\n",
    "from sklearn.model_selection import cross_val_score\n",
    "from sklearn.experimental import enable_iterative_imputer\n",
    "from sklearn.impute import IterativeImputer\n",
    "from sklearn.tree import DecisionTreeRegressor\n",
    "from sklearn.metrics import r2_score\n",
    "\n",
    "import cudf\n",
    "import cuml\n",
    "from cuml.model_selection import train_test_split\n",
    "#from cuml.linear_model.linear_regression import LinearRegression\n",
    "from cuml.ensemble import RandomForestRegressor"
   ]
  },
  {
   "cell_type": "code",
   "execution_count": 4,
   "id": "cd29ffef",
   "metadata": {},
   "outputs": [],
   "source": [
    "kelvin_offset = 273.15\n",
    "\n",
    "def getDimensions(file, layer):\n",
    "    columns = cudf.read_csv(file, nrows=1)\n",
    "    nrows = 0\n",
    "    ncols = 0\n",
    "    while f'V(NODE{layer}_{nrows}_0)' in columns:\n",
    "        nrows += 1\n",
    "    while f'V(NODE{layer}_0_{ncols})' in columns:\n",
    "        ncols += 1\n",
    "    return nrows, ncols\n",
    "\n",
    "\n",
    "def readFormatInput(file, n_rows, n_cols, layer):\n",
    "    column = [f'V(NODE{layer}_{row}_{col})' for row in range(n_rows) for col in range(n_cols)]\n",
    "    df_l = cudf.read_csv(file, usecols=column)\n",
    "    return df_l\n",
    "\n",
    "def getTemp(file):\n",
    "    grid_rows, grid_cols = getDimensions(file, 4)\n",
    "    df_l = readFormatInput(file, grid_rows, grid_cols, 4)\n",
    "    df_l -= kelvin_offset\n",
    "    return df_l"
   ]
  },
  {
   "cell_type": "code",
   "execution_count": 5,
   "id": "95a97075",
   "metadata": {},
   "outputs": [],
   "source": [
    "os.chdir('different_ptraces')\n",
    "folders = os.listdir()\n",
    "\n",
    "\n",
    "ptrace_files_path = []\n",
    "\n",
    "for folder in folders:\n",
    "    os.chdir(f'{folder}')\n",
    "    files = os.listdir()\n",
    "    for file in files:\n",
    "        if \"scaled\" in file:\n",
    "            path = os.getcwd()\n",
    "            ptrace_files_path.append(f\"{path}/{file}\")\n",
    "            os.chdir('../')\n",
    "os.chdir('../')\n",
    "\n",
    "os.chdir('outputs')\n",
    "outputs = os.listdir()\n",
    "temp_files_paths = []\n",
    "\n",
    "for file in outputs:\n",
    "    path = os.getcwd()\n",
    "    temp_files_paths.append(f\"{path}/{file}\")\n",
    "os.chdir('../')"
   ]
  },
  {
   "cell_type": "code",
   "execution_count": 6,
   "id": "2421ac0b",
   "metadata": {},
   "outputs": [],
   "source": [
    "powers = []\n",
    "for file in ptrace_files_path:\n",
    "    d = cudf.read_csv(file, header = 0)\n",
    "    powers.append(d['Power'].sum())"
   ]
  },
  {
   "cell_type": "code",
   "execution_count": 7,
   "id": "b82d0c69",
   "metadata": {},
   "outputs": [],
   "source": [
    "#matching powertrace and temperature outputs \n",
    "fixed_list = []\n",
    "for i in range(len(ptrace_files_path)+1):\n",
    "    for file in temp_files_paths:\n",
    "        if f\"output{i}.cir.csv\" in file:\n",
    "            fixed_list.append(file)"
   ]
  },
  {
   "cell_type": "code",
   "execution_count": 8,
   "id": "68236ccc",
   "metadata": {},
   "outputs": [],
   "source": [
    "df = cudf.DataFrame()\n",
    "df['Powerusage'] = powers\n",
    "df['Temperature_files'] = fixed_list"
   ]
  },
  {
   "cell_type": "code",
   "execution_count": 9,
   "id": "b0303e79",
   "metadata": {},
   "outputs": [],
   "source": [
    "def powerPerNode(powerusage, nodes):\n",
    "    nodes *= nodes\n",
    "    pPN = [powerusage/nodes]*nodes\n",
    "    return cudf.DataFrame(pPN, columns = ['PowerPerNode'])"
   ]
  },
  {
   "cell_type": "code",
   "execution_count": 26,
   "id": "d4e991f1",
   "metadata": {},
   "outputs": [],
   "source": [
    "def getData(num, df):\n",
    "    df1 = df.to_numpy()\n",
    "    test = powerPerNode(df1[0][num], 100)\n",
    "    test1= getTemp(df1[num][1])\n",
    "    cols = test1.columns\n",
    "    # test1.columns = [None] * len(test1.columns)\n",
    "    test1 = test1.transpose().reset_index()\n",
    "    test['NodeTemp'] = test1[0]\n",
    "    test['NodeName'] = cols\n",
    "    test['index1'] = test.index\n",
    "    return test"
   ]
  },
  {
   "cell_type": "code",
   "execution_count": 28,
   "id": "d4308c09-3452-447e-82ea-beb9a2ebc5b4",
   "metadata": {
    "tags": []
   },
   "outputs": [
    {
     "data": {
      "text/html": [
       "<div>\n",
       "<style scoped>\n",
       "    .dataframe tbody tr th:only-of-type {\n",
       "        vertical-align: middle;\n",
       "    }\n",
       "\n",
       "    .dataframe tbody tr th {\n",
       "        vertical-align: top;\n",
       "    }\n",
       "\n",
       "    .dataframe thead th {\n",
       "        text-align: right;\n",
       "    }\n",
       "</style>\n",
       "<table border=\"1\" class=\"dataframe\">\n",
       "  <thead>\n",
       "    <tr style=\"text-align: right;\">\n",
       "      <th></th>\n",
       "      <th>PowerPerNode</th>\n",
       "      <th>NodeTemp</th>\n",
       "      <th>NodeName</th>\n",
       "      <th>index1</th>\n",
       "    </tr>\n",
       "  </thead>\n",
       "  <tbody>\n",
       "    <tr>\n",
       "      <th>0</th>\n",
       "      <td>0.00219</td>\n",
       "      <td>47.69</td>\n",
       "      <td>V(NODE4_0_0)</td>\n",
       "      <td>0</td>\n",
       "    </tr>\n",
       "    <tr>\n",
       "      <th>1</th>\n",
       "      <td>0.00219</td>\n",
       "      <td>47.69</td>\n",
       "      <td>V(NODE4_0_1)</td>\n",
       "      <td>1</td>\n",
       "    </tr>\n",
       "    <tr>\n",
       "      <th>2</th>\n",
       "      <td>0.00219</td>\n",
       "      <td>47.69</td>\n",
       "      <td>V(NODE4_0_2)</td>\n",
       "      <td>2</td>\n",
       "    </tr>\n",
       "    <tr>\n",
       "      <th>3</th>\n",
       "      <td>0.00219</td>\n",
       "      <td>47.69</td>\n",
       "      <td>V(NODE4_0_3)</td>\n",
       "      <td>3</td>\n",
       "    </tr>\n",
       "    <tr>\n",
       "      <th>4</th>\n",
       "      <td>0.00219</td>\n",
       "      <td>47.70</td>\n",
       "      <td>V(NODE4_0_4)</td>\n",
       "      <td>4</td>\n",
       "    </tr>\n",
       "    <tr>\n",
       "      <th>...</th>\n",
       "      <td>...</td>\n",
       "      <td>...</td>\n",
       "      <td>...</td>\n",
       "      <td>...</td>\n",
       "    </tr>\n",
       "    <tr>\n",
       "      <th>9995</th>\n",
       "      <td>0.00219</td>\n",
       "      <td>46.04</td>\n",
       "      <td>V(NODE4_99_95)</td>\n",
       "      <td>9995</td>\n",
       "    </tr>\n",
       "    <tr>\n",
       "      <th>9996</th>\n",
       "      <td>0.00219</td>\n",
       "      <td>46.04</td>\n",
       "      <td>V(NODE4_99_96)</td>\n",
       "      <td>9996</td>\n",
       "    </tr>\n",
       "    <tr>\n",
       "      <th>9997</th>\n",
       "      <td>0.00219</td>\n",
       "      <td>46.04</td>\n",
       "      <td>V(NODE4_99_97)</td>\n",
       "      <td>9997</td>\n",
       "    </tr>\n",
       "    <tr>\n",
       "      <th>9998</th>\n",
       "      <td>0.00219</td>\n",
       "      <td>46.04</td>\n",
       "      <td>V(NODE4_99_98)</td>\n",
       "      <td>9998</td>\n",
       "    </tr>\n",
       "    <tr>\n",
       "      <th>9999</th>\n",
       "      <td>0.00219</td>\n",
       "      <td>46.04</td>\n",
       "      <td>V(NODE4_99_99)</td>\n",
       "      <td>9999</td>\n",
       "    </tr>\n",
       "  </tbody>\n",
       "</table>\n",
       "<p>10000 rows × 4 columns</p>\n",
       "</div>"
      ],
      "text/plain": [
       "      PowerPerNode  NodeTemp        NodeName  index1\n",
       "0          0.00219     47.69    V(NODE4_0_0)       0\n",
       "1          0.00219     47.69    V(NODE4_0_1)       1\n",
       "2          0.00219     47.69    V(NODE4_0_2)       2\n",
       "3          0.00219     47.69    V(NODE4_0_3)       3\n",
       "4          0.00219     47.70    V(NODE4_0_4)       4\n",
       "...            ...       ...             ...     ...\n",
       "9995       0.00219     46.04  V(NODE4_99_95)    9995\n",
       "9996       0.00219     46.04  V(NODE4_99_96)    9996\n",
       "9997       0.00219     46.04  V(NODE4_99_97)    9997\n",
       "9998       0.00219     46.04  V(NODE4_99_98)    9998\n",
       "9999       0.00219     46.04  V(NODE4_99_99)    9999\n",
       "\n",
       "[10000 rows x 4 columns]"
      ]
     },
     "execution_count": 28,
     "metadata": {},
     "output_type": "execute_result"
    }
   ],
   "source": [
    "p = getData(0, df)\n",
    "p"
   ]
  },
  {
   "cell_type": "code",
   "execution_count": 11,
   "id": "fe682b71-25c6-4fac-817b-5050147e16d7",
   "metadata": {
    "tags": []
   },
   "outputs": [],
   "source": [
    "def get_random(num):\n",
    "    list = []\n",
    "    for i in range(num):\n",
    "        list.append(random.randint(0,10000))\n",
    "    return list"
   ]
  },
  {
   "cell_type": "code",
   "execution_count": 30,
   "id": "ecf46571-80b1-44ad-85b5-a29d1034886a",
   "metadata": {
    "tags": []
   },
   "outputs": [],
   "source": [
    "#Regression with no sensor readings given to model\n",
    "x = cudf.DataFrame()\n",
    "for i in range(len(df)):\n",
    "    rand = getData(i)\n",
    "    data = [x,rand]\n",
    "    x = cudf.concat(data)\n"
   ]
  },
  {
   "cell_type": "code",
   "execution_count": 123,
   "id": "4aae4476-d275-4815-bec4-4c9e1eebf73a",
   "metadata": {
    "tags": []
   },
   "outputs": [
    {
     "name": "stdout",
     "output_type": "stream",
     "text": [
      "0.947914692044515\n"
     ]
    }
   ],
   "source": [
    "X = x[['PowerPerNode', 'index1']].to_pandas()\n",
    "y = x['NodeTemp'].to_pandas()\n",
    "X_train, X_test, y_train, y_test = tts(X, y, test_size = 0.2)\n",
    "regr = DecisionTreeRegressor()\n",
    "regr.fit(X_train, y_train)\n",
    "print(regr.score(X_test, y_test)) "
   ]
  },
  {
   "cell_type": "code",
   "execution_count": 28,
   "id": "84f2696b-efe1-4668-89ac-e50ca405b539",
   "metadata": {
    "tags": []
   },
   "outputs": [
    {
     "data": {
      "text/plain": [
       "array([0.40344731, 0.40333178, 0.40242806, 0.40439912, 0.40398463])"
      ]
     },
     "execution_count": 28,
     "metadata": {},
     "output_type": "execute_result"
    }
   ],
   "source": [
    "scores = cross_val_score(regr, X_train, y_train, scoring='r2', cv=5)\n",
    "scores"
   ]
  },
  {
   "cell_type": "code",
   "execution_count": 244,
   "id": "d686cc5d-3232-452e-91b3-5f19f946928d",
   "metadata": {
    "tags": []
   },
   "outputs": [],
   "source": [
    "###Start of regressing where model gets 10 temperature readings"
   ]
  },
  {
   "cell_type": "code",
   "execution_count": 12,
   "id": "6a8bc989-5cb7-442b-8b45-b99ef3202324",
   "metadata": {
    "tags": []
   },
   "outputs": [],
   "source": [
    "randNodes = [5868, 124, 1367, 5158, 5342, 3671, 8696, 7527, 1687, 6938]"
   ]
  },
  {
   "cell_type": "code",
   "execution_count": 29,
   "id": "ee99e3de-89ac-4d48-84fb-70e16d668b65",
   "metadata": {
    "tags": []
   },
   "outputs": [],
   "source": [
    "def generate_data(randNodes, df): \n",
    "    x = cudf.DataFrame()\n",
    "    for i in range(len(df)):\n",
    "        rand = getData(i, df)\n",
    "        rand['TempReadings']= np.nan\n",
    "        for num in randNodes:\n",
    "            rand['TempReadings'][num] = rand.iloc[num,1]\n",
    "        data = [x,rand]\n",
    "        x = cudf.concat(data)\n",
    "    return x"
   ]
  },
  {
   "cell_type": "code",
   "execution_count": 14,
   "id": "98e1263e-fb71-492d-bdf0-dfeeac59233c",
   "metadata": {
    "tags": []
   },
   "outputs": [],
   "source": [
    "# x2 = pd.DataFrame()\n",
    "# for i in range(len(df)):\n",
    "#     rand = getData(i)\n",
    "#     rand['TempReadings'] = np.nan\n",
    "#     for num in randNodes:\n",
    "#         rand['TempReadings'][num] = rand.iloc[num,1]\n",
    "#     data = [x,rand]\n",
    "#     x2 = pd.concat(data)"
   ]
  },
  {
   "cell_type": "code",
   "execution_count": 15,
   "id": "763499c0-a89e-4951-962c-7a8b1147cb1b",
   "metadata": {
    "tags": []
   },
   "outputs": [],
   "source": [
    "def impute_data(x):\n",
    "    temp = x.to_pandas()\n",
    "    imputer = IterativeImputer(random_state = 0)\n",
    "    imputed = imputer.fit_transform(temp[['TempReadings','index1','PowerPerNode']])\n",
    "    df_imputed = cudf.DataFrame(imputed, columns = ['TempReadings','index1','PowerPerNode'])\n",
    "    return df_imputed"
   ]
  },
  {
   "cell_type": "code",
   "execution_count": 89,
   "id": "e86e0dd8-ddd1-48d4-be44-ec72457f519c",
   "metadata": {
    "tags": []
   },
   "outputs": [
    {
     "data": {
      "text/html": [
       "<style>#sk-container-id-2 {color: black;}#sk-container-id-2 pre{padding: 0;}#sk-container-id-2 div.sk-toggleable {background-color: white;}#sk-container-id-2 label.sk-toggleable__label {cursor: pointer;display: block;width: 100%;margin-bottom: 0;padding: 0.3em;box-sizing: border-box;text-align: center;}#sk-container-id-2 label.sk-toggleable__label-arrow:before {content: \"▸\";float: left;margin-right: 0.25em;color: #696969;}#sk-container-id-2 label.sk-toggleable__label-arrow:hover:before {color: black;}#sk-container-id-2 div.sk-estimator:hover label.sk-toggleable__label-arrow:before {color: black;}#sk-container-id-2 div.sk-toggleable__content {max-height: 0;max-width: 0;overflow: hidden;text-align: left;background-color: #f0f8ff;}#sk-container-id-2 div.sk-toggleable__content pre {margin: 0.2em;color: black;border-radius: 0.25em;background-color: #f0f8ff;}#sk-container-id-2 input.sk-toggleable__control:checked~div.sk-toggleable__content {max-height: 200px;max-width: 100%;overflow: auto;}#sk-container-id-2 input.sk-toggleable__control:checked~label.sk-toggleable__label-arrow:before {content: \"▾\";}#sk-container-id-2 div.sk-estimator input.sk-toggleable__control:checked~label.sk-toggleable__label {background-color: #d4ebff;}#sk-container-id-2 div.sk-label input.sk-toggleable__control:checked~label.sk-toggleable__label {background-color: #d4ebff;}#sk-container-id-2 input.sk-hidden--visually {border: 0;clip: rect(1px 1px 1px 1px);clip: rect(1px, 1px, 1px, 1px);height: 1px;margin: -1px;overflow: hidden;padding: 0;position: absolute;width: 1px;}#sk-container-id-2 div.sk-estimator {font-family: monospace;background-color: #f0f8ff;border: 1px dotted black;border-radius: 0.25em;box-sizing: border-box;margin-bottom: 0.5em;}#sk-container-id-2 div.sk-estimator:hover {background-color: #d4ebff;}#sk-container-id-2 div.sk-parallel-item::after {content: \"\";width: 100%;border-bottom: 1px solid gray;flex-grow: 1;}#sk-container-id-2 div.sk-label:hover label.sk-toggleable__label {background-color: #d4ebff;}#sk-container-id-2 div.sk-serial::before {content: \"\";position: absolute;border-left: 1px solid gray;box-sizing: border-box;top: 0;bottom: 0;left: 50%;z-index: 0;}#sk-container-id-2 div.sk-serial {display: flex;flex-direction: column;align-items: center;background-color: white;padding-right: 0.2em;padding-left: 0.2em;position: relative;}#sk-container-id-2 div.sk-item {position: relative;z-index: 1;}#sk-container-id-2 div.sk-parallel {display: flex;align-items: stretch;justify-content: center;background-color: white;position: relative;}#sk-container-id-2 div.sk-item::before, #sk-container-id-2 div.sk-parallel-item::before {content: \"\";position: absolute;border-left: 1px solid gray;box-sizing: border-box;top: 0;bottom: 0;left: 50%;z-index: -1;}#sk-container-id-2 div.sk-parallel-item {display: flex;flex-direction: column;z-index: 1;position: relative;background-color: white;}#sk-container-id-2 div.sk-parallel-item:first-child::after {align-self: flex-end;width: 50%;}#sk-container-id-2 div.sk-parallel-item:last-child::after {align-self: flex-start;width: 50%;}#sk-container-id-2 div.sk-parallel-item:only-child::after {width: 0;}#sk-container-id-2 div.sk-dashed-wrapped {border: 1px dashed gray;margin: 0 0.4em 0.5em 0.4em;box-sizing: border-box;padding-bottom: 0.4em;background-color: white;}#sk-container-id-2 div.sk-label label {font-family: monospace;font-weight: bold;display: inline-block;line-height: 1.2em;}#sk-container-id-2 div.sk-label-container {text-align: center;}#sk-container-id-2 div.sk-container {/* jupyter's `normalize.less` sets `[hidden] { display: none; }` but bootstrap.min.css set `[hidden] { display: none !important; }` so we also need the `!important` here to be able to override the default hidden behavior on the sphinx rendered scikit-learn.org. See: https://github.com/scikit-learn/scikit-learn/issues/21755 */display: inline-block !important;position: relative;}#sk-container-id-2 div.sk-text-repr-fallback {display: none;}</style><div id=\"sk-container-id-2\" class=\"sk-top-container\"><div class=\"sk-text-repr-fallback\"><pre>DecisionTreeRegressor()</pre><b>In a Jupyter environment, please rerun this cell to show the HTML representation or trust the notebook. <br />On GitHub, the HTML representation is unable to render, please try loading this page with nbviewer.org.</b></div><div class=\"sk-container\" hidden><div class=\"sk-item\"><div class=\"sk-estimator sk-toggleable\"><input class=\"sk-toggleable__control sk-hidden--visually\" id=\"sk-estimator-id-2\" type=\"checkbox\" checked><label for=\"sk-estimator-id-2\" class=\"sk-toggleable__label sk-toggleable__label-arrow\">DecisionTreeRegressor</label><div class=\"sk-toggleable__content\"><pre>DecisionTreeRegressor()</pre></div></div></div></div></div>"
      ],
      "text/plain": [
       "DecisionTreeRegressor()"
      ]
     },
     "execution_count": 89,
     "metadata": {},
     "output_type": "execute_result"
    }
   ],
   "source": [
    "X_10 = df_imputed[['PowerPerNode', 'index1', 'TempReadings']].to_pandas()\n",
    "# temp = cudf.from_pandas(temp)\n",
    "y_10 = x['NodeTemp']\n",
    "\n",
    "X10_train, X10_test, y10_train, y10_test = tts(X_10, y_10, test_size = 0.25)\n",
    "\n",
    "regr_10 = DecisionTreeRegressor()\n",
    "regr_10.fit(X10_train, y10_train)\n",
    "# print(cuml.metrics.regression.r2_score(y10_test, regr_10.predict(X10_test)))\n",
    "\n"
   ]
  },
  {
   "cell_type": "code",
   "execution_count": 145,
   "id": "aa7c3963-af04-4398-be2f-587b139fbebb",
   "metadata": {
    "tags": []
   },
   "outputs": [
    {
     "name": "stdout",
     "output_type": "stream",
     "text": [
      "0.5576834928214964\n"
     ]
    }
   ],
   "source": [
    "poly = PolynomialFeatures(degree = 4)\n",
    "X10_poly = poly.fit_transform(X_10)\n",
    "X10_train, X10_test, y10_train, y10_test = tts(X10_poly, y_10, test_size = 0.25)\n",
    "poly.fit(X10_train, y10_train)\n",
    "\n",
    "lin = LinearRegression()\n",
    "lin.fit(X10_train, y10_train)\n",
    "poly_reg_y_predicted = lin.predict(X10_test)\n",
    "poly_score = r2_score(y10_test, poly_reg_y_predicted)\n",
    "\n",
    "print(poly_score)"
   ]
  },
  {
   "cell_type": "code",
   "execution_count": 117,
   "id": "86ff2c98-0b87-4293-b492-7b0d7c4a33bf",
   "metadata": {
    "tags": []
   },
   "outputs": [
    {
     "name": "stdout",
     "output_type": "stream",
     "text": [
      "0.9354886131110398\n"
     ]
    }
   ],
   "source": [
    "print(regr_10.score(X10_test, y10_test))"
   ]
  },
  {
   "cell_type": "code",
   "execution_count": 118,
   "id": "030e3b61-4ff7-4ec4-a61d-b4d47434fd85",
   "metadata": {
    "tags": []
   },
   "outputs": [
    {
     "data": {
      "text/plain": [
       "array([0.93245627, 0.9328622 , 0.93202003, 0.93444115, 0.93078416])"
      ]
     },
     "execution_count": 118,
     "metadata": {},
     "output_type": "execute_result"
    }
   ],
   "source": [
    "scores = cross_val_score(regr_10, X10_train, y10_train, scoring='r2', cv=5)\n",
    "scores"
   ]
  },
  {
   "cell_type": "markdown",
   "id": "54134f1a-7131-406b-915f-7914897d5c31",
   "metadata": {
    "tags": []
   },
   "source": [
    "#\n",
    "\n",
    "create regressions giving it the same random temperature nodes\n",
    "Give increasingly more temperature nodes \n",
    "create plot showing how giving it more temperature sensors affects accuracy\n",
    "\n",
    "get the model to print out a file containing the temperature of all the sensors. \n",
    "\n",
    "\n",
    "\"\"\""
   ]
  },
  {
   "cell_type": "code",
   "execution_count": 107,
   "id": "636c9229-b3e1-42f0-a43c-880097791bc7",
   "metadata": {
    "tags": []
   },
   "outputs": [
    {
     "name": "stdout",
     "output_type": "stream",
     "text": [
      "[9035, 2870, 9581, 8999, 4607, 7505, 8702, 7223, 7851, 9410, 67, 1410, 7282, 1899, 2286, 5565, 2377, 9144, 4325, 8171]\n"
     ]
    }
   ],
   "source": [
    "print(get_random(20))"
   ]
  },
  {
   "cell_type": "code",
   "execution_count": 108,
   "id": "75954f4f-4567-4167-8bef-1dbaffee44b0",
   "metadata": {},
   "outputs": [],
   "source": [
    "randNodes = [9035, 2870, 9581, 8999, 4607, 7505, 8702, 7223, 7851, 9410, 67, 1410, 7282, 1899, 2286, 5565, 2377, 9144, 4325, 8171]"
   ]
  },
  {
   "cell_type": "code",
   "execution_count": 109,
   "id": "8ecbbb43-d674-4dd8-b277-3b3176819e0c",
   "metadata": {
    "tags": []
   },
   "outputs": [],
   "source": [
    "data = generate_data(randNodes, df)\n"
   ]
  },
  {
   "cell_type": "code",
   "execution_count": 124,
   "id": "a096e934-aafb-46b4-aeb6-6506a3f44b1f",
   "metadata": {
    "tags": []
   },
   "outputs": [],
   "source": [
    "data_20 = data"
   ]
  },
  {
   "cell_type": "code",
   "execution_count": 16,
   "id": "944eae10-9bc5-4d0e-ae43-6ab7499f318b",
   "metadata": {
    "tags": []
   },
   "outputs": [],
   "source": [
    "def get_regression(data):\n",
    "    df_imputed = impute_data(data)\n",
    "    X = df_imputed[['PowerPerNode', 'index1', 'TempReadings']].to_pandas()\n",
    "    y = data['NodeTemp'].to_pandas()\n",
    "    X_train, X_test, y_train, y_test = tts(X, y, test_size = 0.25)\n",
    "    regr = DecisionTreeRegressor()\n",
    "    regr.fit(X_train, y_train)\n",
    "    return regr, X_train, X_test, y_train, y_test\n",
    "    "
   ]
  },
  {
   "cell_type": "code",
   "execution_count": 23,
   "id": "9d9b0347-f66a-4c35-afb1-8f5cdfd7616f",
   "metadata": {},
   "outputs": [],
   "source": [
    "def get_score(regr, X_train, X_test, y_train, y_test):\n",
    "    scores = cross_val_score(regr, X_train, y_train, scoring='r2', cv=5)\n",
    "    return regr.score(X_test, y_test), scores\n",
    "    "
   ]
  },
  {
   "cell_type": "code",
   "execution_count": 125,
   "id": "522d10ec-e68d-4eb2-b630-b6a628e9a809",
   "metadata": {
    "tags": []
   },
   "outputs": [
    {
     "name": "stdout",
     "output_type": "stream",
     "text": [
      "(0.9353393294677939, array([0.93227856, 0.93343519, 0.93332925, 0.93358784, 0.93266497]))\n"
     ]
    }
   ],
   "source": [
    "print(get_regression_score(data_20))"
   ]
  },
  {
   "cell_type": "code",
   "execution_count": 19,
   "id": "163cbd5c-eaed-4881-bd2a-2c99b7f9f6f5",
   "metadata": {
    "tags": []
   },
   "outputs": [
    {
     "name": "stdout",
     "output_type": "stream",
     "text": [
      "[2756, 649, 3239, 1978, 6306, 3772, 3116, 5284, 4502, 6744, 3721, 5753, 5530, 8880, 339, 9520, 3090, 7441, 8539, 1111, 4989, 5747, 2887, 8753, 8652, 1962, 5975, 8343, 5044, 9489]\n"
     ]
    }
   ],
   "source": [
    "print(get_random(30))"
   ]
  },
  {
   "cell_type": "code",
   "execution_count": 20,
   "id": "6c74aca9-acba-400c-8f23-69ef70827cf9",
   "metadata": {
    "tags": []
   },
   "outputs": [],
   "source": [
    "randNodes = [2756, 649, 3239, 1978, 6306, 3772, 3116, 5284, 4502, 6744, 3721, 5753, 5530, 8880, 339, 9520, 3090, 7441, 8539, 1111, 4989, 5747, 2887, 8753, 8652, 1962, 5975, 8343, 5044, 9489]"
   ]
  },
  {
   "cell_type": "code",
   "execution_count": 21,
   "id": "0f678dbb-b0b5-461e-8037-4d16fb9f964a",
   "metadata": {
    "tags": []
   },
   "outputs": [],
   "source": [
    "data_30 = generate_data(randNodes, df)"
   ]
  },
  {
   "cell_type": "code",
   "execution_count": 22,
   "id": "3b61f8cc-6c6e-47de-9efe-c2e815a0e74b",
   "metadata": {
    "tags": []
   },
   "outputs": [],
   "source": [
    "regr_30, X_train, X_test, y_train, y_test = get_regression(data_30)"
   ]
  },
  {
   "cell_type": "code",
   "execution_count": 24,
   "id": "809da73b-927f-4b68-ad75-34c384fe02fd",
   "metadata": {
    "tags": []
   },
   "outputs": [
    {
     "name": "stdout",
     "output_type": "stream",
     "text": [
      "(0.9365862033720366, array([0.92945295, 0.93153788, 0.93303299, 0.93305278, 0.93248637]))\n"
     ]
    }
   ],
   "source": [
    "print(get_score(regr_30, X_train, X_test, y_train, y_test))"
   ]
  },
  {
   "cell_type": "code",
   "execution_count": null,
   "id": "053c77c9-b926-488a-826a-ccf6165226a5",
   "metadata": {},
   "outputs": [],
   "source": []
  }
 ],
 "metadata": {
  "kernelspec": {
   "display_name": "Python 3 (ipykernel)",
   "language": "python",
   "name": "python3"
  },
  "language_info": {
   "codemirror_mode": {
    "name": "ipython",
    "version": 3
   },
   "file_extension": ".py",
   "mimetype": "text/x-python",
   "name": "python",
   "nbconvert_exporter": "python",
   "pygments_lexer": "ipython3",
   "version": "3.10.12"
  }
 },
 "nbformat": 4,
 "nbformat_minor": 5
}
